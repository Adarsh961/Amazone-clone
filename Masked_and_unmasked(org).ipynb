{
  "cells": [
    {
      "cell_type": "markdown",
      "metadata": {
        "id": "view-in-github",
        "colab_type": "text"
      },
      "source": [
        "<a href=\"https://colab.research.google.com/github/Adarsh961/Amazone-clone/blob/main/Masked_and_unmasked(org).ipynb\" target=\"_parent\"><img src=\"https://colab.research.google.com/assets/colab-badge.svg\" alt=\"Open In Colab\"/></a>"
      ]
    },
    {
      "cell_type": "code",
      "execution_count": null,
      "metadata": {
        "id": "DZ1B7NIEk2Dn"
      },
      "outputs": [],
      "source": []
    },
    {
      "cell_type": "code",
      "execution_count": null,
      "metadata": {
        "id": "AVNU95GQXphi"
      },
      "outputs": [],
      "source": [
        "!rm -r /content/drive/MyDrive/runs"
      ]
    },
    {
      "cell_type": "code",
      "execution_count": null,
      "metadata": {
        "id": "L-Xm_LWdaeTA"
      },
      "outputs": [],
      "source": []
    },
    {
      "cell_type": "code",
      "execution_count": null,
      "metadata": {
        "colab": {
          "base_uri": "https://localhost:8080/"
        },
        "id": "xz3ADC_X1KB_",
        "outputId": "f7041e5e-ff59-4b23-bf22-f7fa59059200"
      },
      "outputs": [
        {
          "name": "stdout",
          "output_type": "stream",
          "text": [
            "Mounted at /content/drive\n"
          ]
        }
      ],
      "source": [
        "from google.colab import drive\n",
        "drive.mount('/content/drive')"
      ]
    },
    {
      "cell_type": "code",
      "execution_count": null,
      "metadata": {
        "colab": {
          "base_uri": "https://localhost:8080/"
        },
        "id": "TL1VblbD3EkA",
        "outputId": "7c686fe7-557a-4f98-a0f4-05cb2b1af04a"
      },
      "outputs": [
        {
          "name": "stdout",
          "output_type": "stream",
          "text": [
            "/content/drive/MyDrive\n"
          ]
        }
      ],
      "source": [
        "cd /content/drive/MyDrive\n"
      ]
    },
    {
      "cell_type": "code",
      "execution_count": null,
      "metadata": {
        "colab": {
          "base_uri": "https://localhost:8080/"
        },
        "id": "bOnXthTW3_b5",
        "outputId": "4e1ff48d-be19-4c67-adc4-c9941223738c"
      },
      "outputs": [
        {
          "name": "stdout",
          "output_type": "stream",
          "text": [
            "Archive:  /content/drive/MyDrive/archive (1).zip\n",
            "  inflating: annotations/maksssksksss0.xml  \n",
            "  inflating: annotations/maksssksksss1.xml  \n",
            "  inflating: annotations/maksssksksss10.xml  \n",
            "  inflating: annotations/maksssksksss100.xml  \n",
            "  inflating: annotations/maksssksksss101.xml  \n",
            "  inflating: annotations/maksssksksss102.xml  \n",
            "  inflating: annotations/maksssksksss103.xml  \n",
            "  inflating: annotations/maksssksksss104.xml  \n",
            "  inflating: annotations/maksssksksss105.xml  \n",
            "  inflating: annotations/maksssksksss106.xml  \n",
            "  inflating: annotations/maksssksksss107.xml  \n",
            "  inflating: annotations/maksssksksss108.xml  \n",
            "  inflating: annotations/maksssksksss109.xml  \n",
            "  inflating: annotations/maksssksksss11.xml  \n",
            "  inflating: annotations/maksssksksss110.xml  \n",
            "  inflating: annotations/maksssksksss111.xml  \n",
            "  inflating: annotations/maksssksksss112.xml  \n",
            "  inflating: annotations/maksssksksss113.xml  \n",
            "  inflating: annotations/maksssksksss114.xml  \n",
            "  inflating: annotations/maksssksksss115.xml  \n",
            "  inflating: annotations/maksssksksss116.xml  \n",
            "  inflating: annotations/maksssksksss117.xml  \n",
            "  inflating: annotations/maksssksksss118.xml  \n",
            "  inflating: annotations/maksssksksss119.xml  \n",
            "  inflating: annotations/maksssksksss12.xml  \n",
            "  inflating: annotations/maksssksksss120.xml  \n",
            "  inflating: annotations/maksssksksss121.xml  \n",
            "  inflating: annotations/maksssksksss122.xml  \n",
            "  inflating: annotations/maksssksksss123.xml  \n",
            "  inflating: annotations/maksssksksss124.xml  \n",
            "  inflating: annotations/maksssksksss125.xml  \n",
            "  inflating: annotations/maksssksksss126.xml  \n",
            "  inflating: annotations/maksssksksss127.xml  \n",
            "  inflating: annotations/maksssksksss128.xml  \n",
            "  inflating: annotations/maksssksksss129.xml  \n",
            "  inflating: annotations/maksssksksss13.xml  \n",
            "  inflating: annotations/maksssksksss130.xml  \n",
            "  inflating: annotations/maksssksksss131.xml  \n",
            "  inflating: annotations/maksssksksss132.xml  \n",
            "  inflating: annotations/maksssksksss133.xml  \n",
            "  inflating: annotations/maksssksksss134.xml  \n",
            "  inflating: annotations/maksssksksss135.xml  \n",
            "  inflating: annotations/maksssksksss136.xml  \n",
            "  inflating: annotations/maksssksksss137.xml  \n",
            "  inflating: annotations/maksssksksss138.xml  \n",
            "  inflating: annotations/maksssksksss139.xml  \n",
            "  inflating: annotations/maksssksksss14.xml  \n",
            "  inflating: annotations/maksssksksss140.xml  \n",
            "  inflating: annotations/maksssksksss141.xml  \n",
            "  inflating: annotations/maksssksksss142.xml  \n",
            "  inflating: annotations/maksssksksss143.xml  \n",
            "  inflating: annotations/maksssksksss144.xml  \n",
            "  inflating: annotations/maksssksksss145.xml  \n",
            "  inflating: annotations/maksssksksss146.xml  \n",
            "  inflating: annotations/maksssksksss147.xml  \n",
            "  inflating: annotations/maksssksksss148.xml  \n",
            "  inflating: annotations/maksssksksss149.xml  \n",
            "  inflating: annotations/maksssksksss15.xml  \n",
            "  inflating: annotations/maksssksksss150.xml  \n",
            "  inflating: annotations/maksssksksss151.xml  \n",
            "  inflating: annotations/maksssksksss152.xml  \n",
            "  inflating: annotations/maksssksksss153.xml  \n",
            "  inflating: annotations/maksssksksss154.xml  \n",
            "  inflating: annotations/maksssksksss155.xml  \n",
            "  inflating: annotations/maksssksksss156.xml  \n",
            "  inflating: annotations/maksssksksss157.xml  \n",
            "  inflating: annotations/maksssksksss158.xml  \n",
            "  inflating: annotations/maksssksksss159.xml  \n",
            "  inflating: annotations/maksssksksss16.xml  \n",
            "  inflating: annotations/maksssksksss160.xml  \n",
            "  inflating: annotations/maksssksksss161.xml  \n",
            "  inflating: annotations/maksssksksss162.xml  \n",
            "  inflating: annotations/maksssksksss163.xml  \n",
            "  inflating: annotations/maksssksksss164.xml  \n",
            "  inflating: annotations/maksssksksss165.xml  \n",
            "  inflating: annotations/maksssksksss166.xml  \n",
            "  inflating: annotations/maksssksksss167.xml  \n",
            "  inflating: annotations/maksssksksss168.xml  \n",
            "  inflating: annotations/maksssksksss169.xml  \n",
            "  inflating: annotations/maksssksksss17.xml  \n",
            "  inflating: annotations/maksssksksss170.xml  \n",
            "  inflating: annotations/maksssksksss171.xml  \n",
            "  inflating: annotations/maksssksksss172.xml  \n",
            "  inflating: annotations/maksssksksss173.xml  \n",
            "  inflating: annotations/maksssksksss174.xml  \n",
            "  inflating: annotations/maksssksksss175.xml  \n",
            "  inflating: annotations/maksssksksss176.xml  \n",
            "  inflating: annotations/maksssksksss177.xml  \n",
            "  inflating: annotations/maksssksksss178.xml  \n",
            "  inflating: annotations/maksssksksss179.xml  \n",
            "  inflating: annotations/maksssksksss18.xml  \n",
            "  inflating: annotations/maksssksksss180.xml  \n",
            "  inflating: annotations/maksssksksss181.xml  \n",
            "  inflating: annotations/maksssksksss182.xml  \n",
            "  inflating: annotations/maksssksksss183.xml  \n",
            "  inflating: annotations/maksssksksss184.xml  \n",
            "  inflating: annotations/maksssksksss185.xml  \n",
            "  inflating: annotations/maksssksksss186.xml  \n",
            "  inflating: annotations/maksssksksss187.xml  \n",
            "  inflating: annotations/maksssksksss188.xml  \n",
            "  inflating: annotations/maksssksksss189.xml  \n",
            "  inflating: annotations/maksssksksss19.xml  \n",
            "  inflating: annotations/maksssksksss190.xml  \n",
            "  inflating: annotations/maksssksksss191.xml  \n",
            "  inflating: annotations/maksssksksss192.xml  \n",
            "  inflating: annotations/maksssksksss193.xml  \n",
            "  inflating: annotations/maksssksksss194.xml  \n",
            "  inflating: annotations/maksssksksss195.xml  \n",
            "  inflating: annotations/maksssksksss196.xml  \n",
            "  inflating: annotations/maksssksksss197.xml  \n",
            "  inflating: annotations/maksssksksss198.xml  \n",
            "  inflating: annotations/maksssksksss199.xml  \n",
            "  inflating: annotations/maksssksksss2.xml  \n",
            "  inflating: annotations/maksssksksss20.xml  \n",
            "  inflating: annotations/maksssksksss200.xml  \n",
            "  inflating: annotations/maksssksksss201.xml  \n",
            "  inflating: annotations/maksssksksss202.xml  \n",
            "  inflating: annotations/maksssksksss203.xml  \n",
            "  inflating: annotations/maksssksksss204.xml  \n",
            "  inflating: annotations/maksssksksss205.xml  \n",
            "  inflating: annotations/maksssksksss206.xml  \n",
            "  inflating: annotations/maksssksksss207.xml  \n",
            "  inflating: annotations/maksssksksss208.xml  \n",
            "  inflating: annotations/maksssksksss209.xml  \n",
            "  inflating: annotations/maksssksksss21.xml  \n",
            "  inflating: annotations/maksssksksss210.xml  \n",
            "  inflating: annotations/maksssksksss211.xml  \n",
            "  inflating: annotations/maksssksksss212.xml  \n",
            "  inflating: annotations/maksssksksss213.xml  \n",
            "  inflating: annotations/maksssksksss214.xml  \n",
            "  inflating: annotations/maksssksksss215.xml  \n",
            "  inflating: annotations/maksssksksss216.xml  \n",
            "  inflating: annotations/maksssksksss217.xml  \n",
            "  inflating: annotations/maksssksksss218.xml  \n",
            "  inflating: annotations/maksssksksss219.xml  \n",
            "  inflating: annotations/maksssksksss22.xml  \n",
            "  inflating: annotations/maksssksksss220.xml  \n",
            "  inflating: annotations/maksssksksss221.xml  \n",
            "  inflating: annotations/maksssksksss222.xml  \n",
            "  inflating: annotations/maksssksksss223.xml  \n",
            "  inflating: annotations/maksssksksss224.xml  \n",
            "  inflating: annotations/maksssksksss225.xml  \n",
            "  inflating: annotations/maksssksksss226.xml  \n",
            "  inflating: annotations/maksssksksss227.xml  \n",
            "  inflating: annotations/maksssksksss228.xml  \n",
            "  inflating: annotations/maksssksksss229.xml  \n",
            "  inflating: annotations/maksssksksss23.xml  \n",
            "  inflating: annotations/maksssksksss230.xml  \n",
            "  inflating: annotations/maksssksksss231.xml  \n",
            "  inflating: annotations/maksssksksss232.xml  \n",
            "  inflating: annotations/maksssksksss233.xml  \n",
            "  inflating: annotations/maksssksksss234.xml  \n",
            "  inflating: annotations/maksssksksss235.xml  \n",
            "  inflating: annotations/maksssksksss236.xml  \n",
            "  inflating: annotations/maksssksksss237.xml  \n",
            "  inflating: annotations/maksssksksss238.xml  \n",
            "  inflating: annotations/maksssksksss239.xml  \n",
            "  inflating: annotations/maksssksksss24.xml  \n",
            "  inflating: annotations/maksssksksss240.xml  \n",
            "  inflating: annotations/maksssksksss241.xml  \n",
            "  inflating: annotations/maksssksksss242.xml  \n",
            "  inflating: annotations/maksssksksss243.xml  \n",
            "  inflating: annotations/maksssksksss244.xml  \n",
            "  inflating: annotations/maksssksksss245.xml  \n",
            "  inflating: annotations/maksssksksss246.xml  \n",
            "  inflating: annotations/maksssksksss247.xml  \n",
            "  inflating: annotations/maksssksksss248.xml  \n",
            "  inflating: annotations/maksssksksss249.xml  \n",
            "  inflating: annotations/maksssksksss25.xml  \n",
            "  inflating: annotations/maksssksksss250.xml  \n",
            "  inflating: annotations/maksssksksss251.xml  \n",
            "  inflating: annotations/maksssksksss252.xml  \n",
            "  inflating: annotations/maksssksksss253.xml  \n",
            "  inflating: annotations/maksssksksss254.xml  \n",
            "  inflating: annotations/maksssksksss255.xml  \n",
            "  inflating: annotations/maksssksksss256.xml  \n",
            "  inflating: annotations/maksssksksss257.xml  \n",
            "  inflating: annotations/maksssksksss258.xml  \n",
            "  inflating: annotations/maksssksksss259.xml  \n",
            "  inflating: annotations/maksssksksss26.xml  \n",
            "  inflating: annotations/maksssksksss260.xml  \n",
            "  inflating: annotations/maksssksksss261.xml  \n",
            "  inflating: annotations/maksssksksss262.xml  \n",
            "  inflating: annotations/maksssksksss263.xml  \n",
            "  inflating: annotations/maksssksksss264.xml  \n",
            "  inflating: annotations/maksssksksss265.xml  \n",
            "  inflating: annotations/maksssksksss266.xml  \n",
            "  inflating: annotations/maksssksksss267.xml  \n",
            "  inflating: annotations/maksssksksss268.xml  \n",
            "  inflating: annotations/maksssksksss269.xml  \n",
            "  inflating: annotations/maksssksksss27.xml  \n",
            "  inflating: annotations/maksssksksss270.xml  \n",
            "  inflating: annotations/maksssksksss271.xml  \n",
            "  inflating: annotations/maksssksksss272.xml  \n",
            "  inflating: annotations/maksssksksss273.xml  \n",
            "  inflating: annotations/maksssksksss274.xml  \n",
            "  inflating: annotations/maksssksksss275.xml  \n",
            "  inflating: annotations/maksssksksss276.xml  \n",
            "  inflating: annotations/maksssksksss277.xml  \n",
            "  inflating: annotations/maksssksksss278.xml  \n",
            "  inflating: annotations/maksssksksss279.xml  \n",
            "  inflating: annotations/maksssksksss28.xml  \n",
            "  inflating: annotations/maksssksksss280.xml  \n",
            "  inflating: annotations/maksssksksss281.xml  \n",
            "  inflating: annotations/maksssksksss282.xml  \n",
            "  inflating: annotations/maksssksksss283.xml  \n",
            "  inflating: annotations/maksssksksss284.xml  \n",
            "  inflating: annotations/maksssksksss285.xml  \n",
            "  inflating: annotations/maksssksksss286.xml  \n",
            "  inflating: annotations/maksssksksss287.xml  \n",
            "  inflating: annotations/maksssksksss288.xml  \n",
            "  inflating: annotations/maksssksksss289.xml  \n",
            "  inflating: annotations/maksssksksss29.xml  \n",
            "  inflating: annotations/maksssksksss290.xml  \n",
            "  inflating: annotations/maksssksksss291.xml  \n",
            "  inflating: annotations/maksssksksss292.xml  \n",
            "  inflating: annotations/maksssksksss293.xml  \n",
            "  inflating: annotations/maksssksksss294.xml  \n",
            "  inflating: annotations/maksssksksss295.xml  \n",
            "  inflating: annotations/maksssksksss296.xml  \n",
            "  inflating: annotations/maksssksksss297.xml  \n",
            "  inflating: annotations/maksssksksss298.xml  \n",
            "  inflating: annotations/maksssksksss299.xml  \n",
            "  inflating: annotations/maksssksksss3.xml  \n",
            "  inflating: annotations/maksssksksss30.xml  \n",
            "  inflating: annotations/maksssksksss300.xml  \n",
            "  inflating: annotations/maksssksksss301.xml  \n",
            "  inflating: annotations/maksssksksss302.xml  \n",
            "  inflating: annotations/maksssksksss303.xml  \n",
            "  inflating: annotations/maksssksksss304.xml  \n",
            "  inflating: annotations/maksssksksss305.xml  \n",
            "  inflating: annotations/maksssksksss306.xml  \n",
            "  inflating: annotations/maksssksksss307.xml  \n",
            "  inflating: annotations/maksssksksss308.xml  \n",
            "  inflating: annotations/maksssksksss309.xml  \n",
            "  inflating: annotations/maksssksksss31.xml  \n",
            "  inflating: annotations/maksssksksss310.xml  \n",
            "  inflating: annotations/maksssksksss311.xml  \n",
            "  inflating: annotations/maksssksksss312.xml  \n",
            "  inflating: annotations/maksssksksss313.xml  \n",
            "  inflating: annotations/maksssksksss314.xml  \n",
            "  inflating: annotations/maksssksksss315.xml  \n",
            "  inflating: annotations/maksssksksss316.xml  \n",
            "  inflating: annotations/maksssksksss317.xml  \n",
            "  inflating: annotations/maksssksksss318.xml  \n",
            "  inflating: annotations/maksssksksss319.xml  \n",
            "  inflating: annotations/maksssksksss32.xml  \n",
            "  inflating: annotations/maksssksksss320.xml  \n",
            "  inflating: annotations/maksssksksss321.xml  \n",
            "  inflating: annotations/maksssksksss322.xml  \n",
            "  inflating: annotations/maksssksksss323.xml  \n",
            "  inflating: annotations/maksssksksss324.xml  \n",
            "  inflating: annotations/maksssksksss325.xml  \n",
            "  inflating: annotations/maksssksksss326.xml  \n",
            "  inflating: annotations/maksssksksss327.xml  \n",
            "  inflating: annotations/maksssksksss328.xml  \n",
            "  inflating: annotations/maksssksksss329.xml  \n",
            "  inflating: annotations/maksssksksss33.xml  \n",
            "  inflating: annotations/maksssksksss330.xml  \n",
            "  inflating: annotations/maksssksksss331.xml  \n",
            "  inflating: annotations/maksssksksss332.xml  \n",
            "  inflating: annotations/maksssksksss333.xml  \n",
            "  inflating: annotations/maksssksksss334.xml  \n",
            "  inflating: annotations/maksssksksss335.xml  \n",
            "  inflating: annotations/maksssksksss336.xml  \n",
            "  inflating: annotations/maksssksksss337.xml  \n",
            "  inflating: annotations/maksssksksss338.xml  \n",
            "  inflating: annotations/maksssksksss339.xml  \n",
            "  inflating: annotations/maksssksksss34.xml  \n",
            "  inflating: annotations/maksssksksss340.xml  \n",
            "  inflating: annotations/maksssksksss341.xml  \n",
            "  inflating: annotations/maksssksksss342.xml  \n",
            "  inflating: annotations/maksssksksss343.xml  \n",
            "  inflating: annotations/maksssksksss344.xml  \n",
            "  inflating: annotations/maksssksksss345.xml  \n",
            "  inflating: annotations/maksssksksss346.xml  \n",
            "  inflating: annotations/maksssksksss347.xml  \n",
            "  inflating: annotations/maksssksksss348.xml  \n",
            "  inflating: annotations/maksssksksss349.xml  \n",
            "  inflating: annotations/maksssksksss35.xml  \n",
            "  inflating: annotations/maksssksksss350.xml  \n",
            "  inflating: annotations/maksssksksss351.xml  \n",
            "  inflating: annotations/maksssksksss352.xml  \n",
            "  inflating: annotations/maksssksksss353.xml  \n",
            "  inflating: annotations/maksssksksss354.xml  \n",
            "  inflating: annotations/maksssksksss355.xml  \n",
            "  inflating: annotations/maksssksksss356.xml  \n",
            "  inflating: annotations/maksssksksss357.xml  \n",
            "  inflating: annotations/maksssksksss358.xml  \n",
            "  inflating: annotations/maksssksksss359.xml  \n",
            "  inflating: annotations/maksssksksss36.xml  \n",
            "  inflating: annotations/maksssksksss360.xml  \n",
            "  inflating: annotations/maksssksksss361.xml  \n",
            "  inflating: annotations/maksssksksss362.xml  \n",
            "  inflating: annotations/maksssksksss363.xml  \n",
            "  inflating: annotations/maksssksksss364.xml  \n",
            "  inflating: annotations/maksssksksss365.xml  \n",
            "  inflating: annotations/maksssksksss366.xml  \n",
            "  inflating: annotations/maksssksksss367.xml  \n",
            "  inflating: annotations/maksssksksss368.xml  \n",
            "  inflating: annotations/maksssksksss369.xml  \n",
            "  inflating: annotations/maksssksksss37.xml  \n",
            "  inflating: annotations/maksssksksss370.xml  \n",
            "  inflating: annotations/maksssksksss371.xml  \n",
            "  inflating: annotations/maksssksksss372.xml  \n",
            "  inflating: annotations/maksssksksss373.xml  \n",
            "  inflating: annotations/maksssksksss374.xml  \n",
            "  inflating: annotations/maksssksksss375.xml  \n",
            "  inflating: annotations/maksssksksss376.xml  \n",
            "  inflating: annotations/maksssksksss377.xml  \n",
            "  inflating: annotations/maksssksksss378.xml  \n",
            "  inflating: annotations/maksssksksss379.xml  \n",
            "  inflating: annotations/maksssksksss38.xml  \n",
            "  inflating: annotations/maksssksksss380.xml  \n",
            "  inflating: annotations/maksssksksss381.xml  \n",
            "  inflating: annotations/maksssksksss382.xml  \n",
            "  inflating: annotations/maksssksksss383.xml  \n",
            "  inflating: annotations/maksssksksss384.xml  \n",
            "  inflating: annotations/maksssksksss385.xml  \n",
            "  inflating: annotations/maksssksksss386.xml  \n",
            "  inflating: annotations/maksssksksss387.xml  \n",
            "  inflating: annotations/maksssksksss388.xml  \n",
            "  inflating: annotations/maksssksksss389.xml  \n",
            "  inflating: annotations/maksssksksss39.xml  \n",
            "  inflating: annotations/maksssksksss390.xml  \n",
            "  inflating: annotations/maksssksksss391.xml  \n",
            "  inflating: annotations/maksssksksss392.xml  \n",
            "  inflating: annotations/maksssksksss393.xml  \n",
            "  inflating: annotations/maksssksksss394.xml  \n",
            "  inflating: annotations/maksssksksss395.xml  \n",
            "  inflating: annotations/maksssksksss396.xml  \n",
            "  inflating: annotations/maksssksksss397.xml  \n",
            "  inflating: annotations/maksssksksss398.xml  \n",
            "  inflating: annotations/maksssksksss399.xml  \n",
            "  inflating: annotations/maksssksksss4.xml  \n",
            "  inflating: annotations/maksssksksss40.xml  \n",
            "  inflating: annotations/maksssksksss400.xml  \n",
            "  inflating: annotations/maksssksksss401.xml  \n",
            "  inflating: annotations/maksssksksss402.xml  \n",
            "  inflating: annotations/maksssksksss403.xml  \n",
            "  inflating: annotations/maksssksksss404.xml  \n",
            "  inflating: annotations/maksssksksss405.xml  \n",
            "  inflating: annotations/maksssksksss406.xml  \n",
            "  inflating: annotations/maksssksksss407.xml  \n",
            "  inflating: annotations/maksssksksss408.xml  \n",
            "  inflating: annotations/maksssksksss409.xml  \n",
            "  inflating: annotations/maksssksksss41.xml  \n",
            "  inflating: annotations/maksssksksss410.xml  \n",
            "  inflating: annotations/maksssksksss411.xml  \n",
            "  inflating: annotations/maksssksksss412.xml  \n",
            "  inflating: annotations/maksssksksss413.xml  \n",
            "  inflating: annotations/maksssksksss414.xml  \n",
            "  inflating: annotations/maksssksksss415.xml  \n",
            "  inflating: annotations/maksssksksss416.xml  \n",
            "  inflating: annotations/maksssksksss417.xml  \n",
            "  inflating: annotations/maksssksksss418.xml  \n",
            "  inflating: annotations/maksssksksss419.xml  \n",
            "  inflating: annotations/maksssksksss42.xml  \n",
            "  inflating: annotations/maksssksksss420.xml  \n",
            "  inflating: annotations/maksssksksss421.xml  \n",
            "  inflating: annotations/maksssksksss422.xml  \n",
            "  inflating: annotations/maksssksksss423.xml  \n",
            "  inflating: annotations/maksssksksss424.xml  \n",
            "  inflating: annotations/maksssksksss425.xml  \n",
            "  inflating: annotations/maksssksksss426.xml  \n",
            "  inflating: annotations/maksssksksss427.xml  \n",
            "  inflating: annotations/maksssksksss428.xml  \n",
            "  inflating: annotations/maksssksksss429.xml  \n",
            "  inflating: annotations/maksssksksss43.xml  \n",
            "  inflating: annotations/maksssksksss430.xml  \n",
            "  inflating: annotations/maksssksksss431.xml  \n",
            "  inflating: annotations/maksssksksss432.xml  \n",
            "  inflating: annotations/maksssksksss433.xml  \n",
            "  inflating: annotations/maksssksksss434.xml  \n",
            "  inflating: annotations/maksssksksss435.xml  \n",
            "  inflating: annotations/maksssksksss436.xml  \n",
            "  inflating: annotations/maksssksksss437.xml  \n",
            "  inflating: annotations/maksssksksss438.xml  \n",
            "  inflating: annotations/maksssksksss439.xml  \n",
            "  inflating: annotations/maksssksksss44.xml  \n",
            "  inflating: annotations/maksssksksss440.xml  \n",
            "  inflating: annotations/maksssksksss441.xml  \n",
            "  inflating: annotations/maksssksksss442.xml  \n",
            "  inflating: annotations/maksssksksss443.xml  \n",
            "  inflating: annotations/maksssksksss444.xml  \n",
            "  inflating: annotations/maksssksksss445.xml  \n",
            "  inflating: annotations/maksssksksss446.xml  \n",
            "  inflating: annotations/maksssksksss447.xml  \n",
            "  inflating: annotations/maksssksksss448.xml  \n",
            "  inflating: annotations/maksssksksss449.xml  \n",
            "  inflating: annotations/maksssksksss45.xml  \n",
            "  inflating: annotations/maksssksksss450.xml  \n",
            "  inflating: annotations/maksssksksss451.xml  \n",
            "  inflating: annotations/maksssksksss452.xml  \n",
            "  inflating: annotations/maksssksksss453.xml  \n",
            "  inflating: annotations/maksssksksss454.xml  \n",
            "  inflating: annotations/maksssksksss455.xml  \n",
            "  inflating: annotations/maksssksksss456.xml  \n",
            "  inflating: annotations/maksssksksss457.xml  \n",
            "  inflating: annotations/maksssksksss458.xml  \n",
            "  inflating: annotations/maksssksksss459.xml  \n",
            "  inflating: annotations/maksssksksss46.xml  \n",
            "  inflating: annotations/maksssksksss460.xml  \n",
            "  inflating: annotations/maksssksksss461.xml  \n",
            "  inflating: annotations/maksssksksss462.xml  \n",
            "  inflating: annotations/maksssksksss463.xml  \n",
            "  inflating: annotations/maksssksksss464.xml  \n",
            "  inflating: annotations/maksssksksss465.xml  \n",
            "  inflating: annotations/maksssksksss466.xml  \n",
            "  inflating: annotations/maksssksksss467.xml  \n",
            "  inflating: annotations/maksssksksss468.xml  \n",
            "  inflating: annotations/maksssksksss469.xml  \n",
            "  inflating: annotations/maksssksksss47.xml  \n",
            "  inflating: annotations/maksssksksss470.xml  \n",
            "  inflating: annotations/maksssksksss471.xml  \n",
            "  inflating: annotations/maksssksksss472.xml  \n",
            "  inflating: annotations/maksssksksss473.xml  \n",
            "  inflating: annotations/maksssksksss474.xml  \n",
            "  inflating: annotations/maksssksksss475.xml  \n",
            "  inflating: annotations/maksssksksss476.xml  \n",
            "  inflating: annotations/maksssksksss477.xml  \n",
            "  inflating: annotations/maksssksksss478.xml  \n",
            "  inflating: annotations/maksssksksss479.xml  \n",
            "  inflating: annotations/maksssksksss48.xml  \n",
            "  inflating: annotations/maksssksksss480.xml  \n",
            "  inflating: annotations/maksssksksss481.xml  \n",
            "  inflating: annotations/maksssksksss482.xml  \n",
            "  inflating: annotations/maksssksksss483.xml  \n",
            "  inflating: annotations/maksssksksss484.xml  \n",
            "  inflating: annotations/maksssksksss485.xml  \n",
            "  inflating: annotations/maksssksksss486.xml  \n",
            "  inflating: annotations/maksssksksss487.xml  \n",
            "  inflating: annotations/maksssksksss488.xml  \n",
            "  inflating: annotations/maksssksksss489.xml  \n",
            "  inflating: annotations/maksssksksss49.xml  \n",
            "  inflating: annotations/maksssksksss490.xml  \n",
            "  inflating: annotations/maksssksksss491.xml  \n",
            "  inflating: annotations/maksssksksss492.xml  \n",
            "  inflating: annotations/maksssksksss493.xml  \n",
            "  inflating: annotations/maksssksksss494.xml  \n",
            "  inflating: annotations/maksssksksss495.xml  \n",
            "  inflating: annotations/maksssksksss496.xml  \n",
            "  inflating: annotations/maksssksksss497.xml  \n",
            "  inflating: annotations/maksssksksss498.xml  \n",
            "  inflating: annotations/maksssksksss499.xml  \n",
            "  inflating: annotations/maksssksksss5.xml  \n",
            "  inflating: annotations/maksssksksss50.xml  \n",
            "  inflating: annotations/maksssksksss500.xml  \n",
            "  inflating: annotations/maksssksksss501.xml  \n",
            "  inflating: annotations/maksssksksss502.xml  \n",
            "  inflating: annotations/maksssksksss503.xml  \n",
            "  inflating: annotations/maksssksksss504.xml  \n",
            "  inflating: annotations/maksssksksss505.xml  \n",
            "  inflating: annotations/maksssksksss506.xml  \n",
            "  inflating: annotations/maksssksksss507.xml  \n",
            "  inflating: annotations/maksssksksss508.xml  \n",
            "  inflating: annotations/maksssksksss509.xml  \n",
            "  inflating: annotations/maksssksksss51.xml  \n",
            "  inflating: annotations/maksssksksss510.xml  \n",
            "  inflating: annotations/maksssksksss511.xml  \n",
            "  inflating: annotations/maksssksksss512.xml  \n",
            "  inflating: annotations/maksssksksss513.xml  \n",
            "  inflating: annotations/maksssksksss514.xml  \n",
            "  inflating: annotations/maksssksksss515.xml  \n",
            "  inflating: annotations/maksssksksss516.xml  \n",
            "  inflating: annotations/maksssksksss517.xml  \n",
            "  inflating: annotations/maksssksksss518.xml  \n",
            "  inflating: annotations/maksssksksss519.xml  \n",
            "  inflating: annotations/maksssksksss52.xml  \n",
            "  inflating: annotations/maksssksksss520.xml  \n",
            "  inflating: annotations/maksssksksss521.xml  \n",
            "  inflating: annotations/maksssksksss522.xml  \n",
            "  inflating: annotations/maksssksksss523.xml  \n",
            "  inflating: annotations/maksssksksss524.xml  \n",
            "  inflating: annotations/maksssksksss525.xml  \n",
            "  inflating: annotations/maksssksksss526.xml  \n",
            "  inflating: annotations/maksssksksss527.xml  \n",
            "  inflating: annotations/maksssksksss528.xml  \n",
            "  inflating: annotations/maksssksksss529.xml  \n",
            "  inflating: annotations/maksssksksss53.xml  \n",
            "  inflating: annotations/maksssksksss530.xml  \n",
            "  inflating: annotations/maksssksksss531.xml  \n",
            "  inflating: annotations/maksssksksss532.xml  \n",
            "  inflating: annotations/maksssksksss533.xml  \n",
            "  inflating: annotations/maksssksksss534.xml  \n",
            "  inflating: annotations/maksssksksss535.xml  \n",
            "  inflating: annotations/maksssksksss536.xml  \n",
            "  inflating: annotations/maksssksksss537.xml  \n",
            "  inflating: annotations/maksssksksss538.xml  \n",
            "  inflating: annotations/maksssksksss539.xml  \n",
            "  inflating: annotations/maksssksksss54.xml  \n",
            "  inflating: annotations/maksssksksss540.xml  \n",
            "  inflating: annotations/maksssksksss541.xml  \n",
            "  inflating: annotations/maksssksksss542.xml  \n",
            "  inflating: annotations/maksssksksss543.xml  \n",
            "  inflating: annotations/maksssksksss544.xml  \n",
            "  inflating: annotations/maksssksksss545.xml  \n",
            "  inflating: annotations/maksssksksss546.xml  \n",
            "  inflating: annotations/maksssksksss547.xml  \n",
            "  inflating: annotations/maksssksksss548.xml  \n",
            "  inflating: annotations/maksssksksss549.xml  \n",
            "  inflating: annotations/maksssksksss55.xml  \n",
            "  inflating: annotations/maksssksksss550.xml  \n",
            "  inflating: annotations/maksssksksss551.xml  \n",
            "  inflating: annotations/maksssksksss552.xml  \n",
            "  inflating: annotations/maksssksksss553.xml  \n",
            "  inflating: annotations/maksssksksss554.xml  \n",
            "  inflating: annotations/maksssksksss555.xml  \n",
            "  inflating: annotations/maksssksksss556.xml  \n",
            "  inflating: annotations/maksssksksss557.xml  \n",
            "  inflating: annotations/maksssksksss558.xml  \n",
            "  inflating: annotations/maksssksksss559.xml  \n",
            "  inflating: annotations/maksssksksss56.xml  \n",
            "  inflating: annotations/maksssksksss560.xml  \n",
            "  inflating: annotations/maksssksksss561.xml  \n",
            "  inflating: annotations/maksssksksss562.xml  \n",
            "  inflating: annotations/maksssksksss563.xml  \n",
            "  inflating: annotations/maksssksksss564.xml  \n",
            "  inflating: annotations/maksssksksss565.xml  \n",
            "  inflating: annotations/maksssksksss566.xml  \n",
            "  inflating: annotations/maksssksksss567.xml  \n",
            "  inflating: annotations/maksssksksss568.xml  \n",
            "  inflating: annotations/maksssksksss569.xml  \n",
            "  inflating: annotations/maksssksksss57.xml  \n",
            "  inflating: annotations/maksssksksss570.xml  \n",
            "  inflating: annotations/maksssksksss571.xml  \n",
            "  inflating: annotations/maksssksksss572.xml  \n",
            "  inflating: annotations/maksssksksss573.xml  \n",
            "  inflating: annotations/maksssksksss574.xml  \n",
            "  inflating: annotations/maksssksksss575.xml  \n",
            "  inflating: annotations/maksssksksss576.xml  \n",
            "  inflating: annotations/maksssksksss577.xml  \n",
            "  inflating: annotations/maksssksksss578.xml  \n",
            "  inflating: annotations/maksssksksss579.xml  \n",
            "  inflating: annotations/maksssksksss58.xml  \n",
            "  inflating: annotations/maksssksksss580.xml  \n",
            "  inflating: annotations/maksssksksss581.xml  \n",
            "  inflating: annotations/maksssksksss582.xml  \n",
            "  inflating: annotations/maksssksksss583.xml  \n",
            "  inflating: annotations/maksssksksss584.xml  \n",
            "  inflating: annotations/maksssksksss585.xml  \n",
            "  inflating: annotations/maksssksksss586.xml  \n",
            "  inflating: annotations/maksssksksss587.xml  \n",
            "  inflating: annotations/maksssksksss588.xml  \n",
            "  inflating: annotations/maksssksksss589.xml  \n",
            "  inflating: annotations/maksssksksss59.xml  \n",
            "  inflating: annotations/maksssksksss590.xml  \n",
            "  inflating: annotations/maksssksksss591.xml  \n",
            "  inflating: annotations/maksssksksss592.xml  \n",
            "  inflating: annotations/maksssksksss593.xml  \n",
            "  inflating: annotations/maksssksksss594.xml  \n",
            "  inflating: annotations/maksssksksss595.xml  \n",
            "  inflating: annotations/maksssksksss596.xml  \n",
            "  inflating: annotations/maksssksksss597.xml  \n",
            "  inflating: annotations/maksssksksss598.xml  \n",
            "  inflating: annotations/maksssksksss599.xml  \n",
            "  inflating: annotations/maksssksksss6.xml  \n",
            "  inflating: annotations/maksssksksss60.xml  \n",
            "  inflating: annotations/maksssksksss600.xml  \n",
            "  inflating: annotations/maksssksksss601.xml  \n",
            "  inflating: annotations/maksssksksss602.xml  \n",
            "  inflating: annotations/maksssksksss603.xml  \n",
            "  inflating: annotations/maksssksksss604.xml  \n",
            "  inflating: annotations/maksssksksss605.xml  \n",
            "  inflating: annotations/maksssksksss606.xml  \n",
            "  inflating: annotations/maksssksksss607.xml  \n",
            "  inflating: annotations/maksssksksss608.xml  \n",
            "  inflating: annotations/maksssksksss609.xml  \n",
            "  inflating: annotations/maksssksksss61.xml  \n",
            "  inflating: annotations/maksssksksss610.xml  \n",
            "  inflating: annotations/maksssksksss611.xml  \n",
            "  inflating: annotations/maksssksksss612.xml  \n",
            "  inflating: annotations/maksssksksss613.xml  \n",
            "  inflating: annotations/maksssksksss614.xml  \n",
            "  inflating: annotations/maksssksksss615.xml  \n",
            "  inflating: annotations/maksssksksss616.xml  \n",
            "  inflating: annotations/maksssksksss617.xml  \n",
            "  inflating: annotations/maksssksksss618.xml  \n",
            "  inflating: annotations/maksssksksss619.xml  \n",
            "  inflating: annotations/maksssksksss62.xml  \n",
            "  inflating: annotations/maksssksksss620.xml  \n",
            "  inflating: annotations/maksssksksss621.xml  \n",
            "  inflating: annotations/maksssksksss622.xml  \n",
            "  inflating: annotations/maksssksksss623.xml  \n",
            "  inflating: annotations/maksssksksss624.xml  \n",
            "  inflating: annotations/maksssksksss625.xml  \n",
            "  inflating: annotations/maksssksksss626.xml  \n",
            "  inflating: annotations/maksssksksss627.xml  \n",
            "  inflating: annotations/maksssksksss628.xml  \n",
            "  inflating: annotations/maksssksksss629.xml  \n",
            "  inflating: annotations/maksssksksss63.xml  \n",
            "  inflating: annotations/maksssksksss630.xml  \n",
            "  inflating: annotations/maksssksksss631.xml  \n",
            "  inflating: annotations/maksssksksss632.xml  \n",
            "  inflating: annotations/maksssksksss633.xml  \n",
            "  inflating: annotations/maksssksksss634.xml  \n",
            "  inflating: annotations/maksssksksss635.xml  \n",
            "  inflating: annotations/maksssksksss636.xml  \n",
            "  inflating: annotations/maksssksksss637.xml  \n",
            "  inflating: annotations/maksssksksss638.xml  \n",
            "  inflating: annotations/maksssksksss639.xml  \n",
            "  inflating: annotations/maksssksksss64.xml  \n",
            "  inflating: annotations/maksssksksss640.xml  \n",
            "  inflating: annotations/maksssksksss641.xml  \n",
            "  inflating: annotations/maksssksksss642.xml  \n",
            "  inflating: annotations/maksssksksss643.xml  \n",
            "  inflating: annotations/maksssksksss644.xml  \n",
            "  inflating: annotations/maksssksksss645.xml  \n",
            "  inflating: annotations/maksssksksss646.xml  \n",
            "  inflating: annotations/maksssksksss647.xml  \n",
            "  inflating: annotations/maksssksksss648.xml  \n",
            "  inflating: annotations/maksssksksss649.xml  \n",
            "  inflating: annotations/maksssksksss65.xml  \n",
            "  inflating: annotations/maksssksksss650.xml  \n",
            "  inflating: annotations/maksssksksss651.xml  \n",
            "  inflating: annotations/maksssksksss652.xml  \n",
            "  inflating: annotations/maksssksksss653.xml  \n",
            "  inflating: annotations/maksssksksss654.xml  \n",
            "  inflating: annotations/maksssksksss655.xml  \n",
            "  inflating: annotations/maksssksksss656.xml  \n",
            "  inflating: annotations/maksssksksss657.xml  \n",
            "  inflating: annotations/maksssksksss658.xml  \n",
            "  inflating: annotations/maksssksksss659.xml  \n",
            "  inflating: annotations/maksssksksss66.xml  \n",
            "  inflating: annotations/maksssksksss660.xml  \n",
            "  inflating: annotations/maksssksksss661.xml  \n",
            "  inflating: annotations/maksssksksss662.xml  \n",
            "  inflating: annotations/maksssksksss663.xml  \n",
            "  inflating: annotations/maksssksksss664.xml  \n",
            "  inflating: annotations/maksssksksss665.xml  \n",
            "  inflating: annotations/maksssksksss666.xml  \n",
            "  inflating: annotations/maksssksksss667.xml  \n",
            "  inflating: annotations/maksssksksss668.xml  \n",
            "  inflating: annotations/maksssksksss669.xml  \n",
            "  inflating: annotations/maksssksksss67.xml  \n",
            "  inflating: annotations/maksssksksss670.xml  \n",
            "  inflating: annotations/maksssksksss671.xml  \n",
            "  inflating: annotations/maksssksksss672.xml  \n",
            "  inflating: annotations/maksssksksss673.xml  \n",
            "  inflating: annotations/maksssksksss674.xml  \n",
            "  inflating: annotations/maksssksksss675.xml  \n",
            "  inflating: annotations/maksssksksss676.xml  \n",
            "  inflating: annotations/maksssksksss677.xml  \n",
            "  inflating: annotations/maksssksksss678.xml  \n",
            "  inflating: annotations/maksssksksss679.xml  \n",
            "  inflating: annotations/maksssksksss68.xml  \n",
            "  inflating: annotations/maksssksksss680.xml  \n",
            "  inflating: annotations/maksssksksss681.xml  \n",
            "  inflating: annotations/maksssksksss682.xml  \n",
            "  inflating: annotations/maksssksksss683.xml  \n",
            "  inflating: annotations/maksssksksss684.xml  \n",
            "  inflating: annotations/maksssksksss685.xml  \n",
            "  inflating: annotations/maksssksksss686.xml  \n",
            "  inflating: annotations/maksssksksss687.xml  \n",
            "  inflating: annotations/maksssksksss688.xml  \n",
            "  inflating: annotations/maksssksksss689.xml  \n",
            "  inflating: annotations/maksssksksss69.xml  \n",
            "  inflating: annotations/maksssksksss690.xml  \n",
            "  inflating: annotations/maksssksksss691.xml  \n",
            "  inflating: annotations/maksssksksss692.xml  \n",
            "  inflating: annotations/maksssksksss693.xml  \n",
            "  inflating: annotations/maksssksksss694.xml  \n",
            "  inflating: annotations/maksssksksss695.xml  \n",
            "  inflating: annotations/maksssksksss696.xml  \n",
            "  inflating: annotations/maksssksksss697.xml  \n",
            "  inflating: annotations/maksssksksss698.xml  \n",
            "  inflating: annotations/maksssksksss699.xml  \n",
            "  inflating: annotations/maksssksksss7.xml  \n",
            "  inflating: annotations/maksssksksss70.xml  \n",
            "  inflating: annotations/maksssksksss700.xml  \n",
            "  inflating: annotations/maksssksksss701.xml  \n",
            "  inflating: annotations/maksssksksss702.xml  \n",
            "  inflating: annotations/maksssksksss703.xml  \n",
            "  inflating: annotations/maksssksksss704.xml  \n",
            "  inflating: annotations/maksssksksss705.xml  \n",
            "  inflating: annotations/maksssksksss706.xml  \n",
            "  inflating: annotations/maksssksksss707.xml  \n",
            "  inflating: annotations/maksssksksss708.xml  \n",
            "  inflating: annotations/maksssksksss709.xml  \n",
            "  inflating: annotations/maksssksksss71.xml  \n",
            "  inflating: annotations/maksssksksss710.xml  \n",
            "  inflating: annotations/maksssksksss711.xml  \n",
            "  inflating: annotations/maksssksksss712.xml  \n",
            "  inflating: annotations/maksssksksss713.xml  \n",
            "  inflating: annotations/maksssksksss714.xml  \n",
            "  inflating: annotations/maksssksksss715.xml  \n",
            "  inflating: annotations/maksssksksss716.xml  \n",
            "  inflating: annotations/maksssksksss717.xml  \n",
            "  inflating: annotations/maksssksksss718.xml  \n",
            "  inflating: annotations/maksssksksss719.xml  \n",
            "  inflating: annotations/maksssksksss72.xml  \n",
            "  inflating: annotations/maksssksksss720.xml  \n",
            "  inflating: annotations/maksssksksss721.xml  \n",
            "  inflating: annotations/maksssksksss722.xml  \n",
            "  inflating: annotations/maksssksksss723.xml  \n",
            "  inflating: annotations/maksssksksss724.xml  \n",
            "  inflating: annotations/maksssksksss725.xml  \n",
            "  inflating: annotations/maksssksksss726.xml  \n",
            "  inflating: annotations/maksssksksss727.xml  \n",
            "  inflating: annotations/maksssksksss728.xml  \n",
            "  inflating: annotations/maksssksksss729.xml  \n",
            "  inflating: annotations/maksssksksss73.xml  \n",
            "  inflating: annotations/maksssksksss730.xml  \n",
            "  inflating: annotations/maksssksksss731.xml  \n",
            "  inflating: annotations/maksssksksss732.xml  \n",
            "  inflating: annotations/maksssksksss733.xml  \n",
            "  inflating: annotations/maksssksksss734.xml  \n",
            "  inflating: annotations/maksssksksss735.xml  \n",
            "  inflating: annotations/maksssksksss736.xml  \n",
            "  inflating: annotations/maksssksksss737.xml  \n",
            "  inflating: annotations/maksssksksss738.xml  \n",
            "  inflating: annotations/maksssksksss739.xml  \n",
            "  inflating: annotations/maksssksksss74.xml  \n",
            "  inflating: annotations/maksssksksss740.xml  \n",
            "  inflating: annotations/maksssksksss741.xml  \n",
            "  inflating: annotations/maksssksksss742.xml  \n",
            "  inflating: annotations/maksssksksss743.xml  \n",
            "  inflating: annotations/maksssksksss744.xml  \n",
            "  inflating: annotations/maksssksksss745.xml  \n",
            "  inflating: annotations/maksssksksss746.xml  \n",
            "  inflating: annotations/maksssksksss747.xml  \n",
            "  inflating: annotations/maksssksksss748.xml  \n",
            "  inflating: annotations/maksssksksss749.xml  \n",
            "  inflating: annotations/maksssksksss75.xml  \n",
            "  inflating: annotations/maksssksksss750.xml  \n",
            "  inflating: annotations/maksssksksss751.xml  \n",
            "  inflating: annotations/maksssksksss752.xml  \n",
            "  inflating: annotations/maksssksksss753.xml  \n",
            "  inflating: annotations/maksssksksss754.xml  \n",
            "  inflating: annotations/maksssksksss755.xml  \n",
            "  inflating: annotations/maksssksksss756.xml  \n",
            "  inflating: annotations/maksssksksss757.xml  \n",
            "  inflating: annotations/maksssksksss758.xml  \n",
            "  inflating: annotations/maksssksksss759.xml  \n",
            "  inflating: annotations/maksssksksss76.xml  \n",
            "  inflating: annotations/maksssksksss760.xml  \n",
            "  inflating: annotations/maksssksksss761.xml  \n",
            "  inflating: annotations/maksssksksss762.xml  \n",
            "  inflating: annotations/maksssksksss763.xml  \n",
            "  inflating: annotations/maksssksksss764.xml  \n",
            "  inflating: annotations/maksssksksss765.xml  \n",
            "  inflating: annotations/maksssksksss766.xml  \n",
            "  inflating: annotations/maksssksksss767.xml  \n",
            "  inflating: annotations/maksssksksss768.xml  \n",
            "  inflating: annotations/maksssksksss769.xml  \n",
            "  inflating: annotations/maksssksksss77.xml  \n",
            "  inflating: annotations/maksssksksss770.xml  \n",
            "  inflating: annotations/maksssksksss771.xml  \n",
            "  inflating: annotations/maksssksksss772.xml  \n",
            "  inflating: annotations/maksssksksss773.xml  \n",
            "  inflating: annotations/maksssksksss774.xml  \n",
            "  inflating: annotations/maksssksksss775.xml  \n",
            "  inflating: annotations/maksssksksss776.xml  \n",
            "  inflating: annotations/maksssksksss777.xml  \n",
            "  inflating: annotations/maksssksksss778.xml  \n",
            "  inflating: annotations/maksssksksss779.xml  \n",
            "  inflating: annotations/maksssksksss78.xml  \n",
            "  inflating: annotations/maksssksksss780.xml  \n",
            "  inflating: annotations/maksssksksss781.xml  \n",
            "  inflating: annotations/maksssksksss782.xml  \n",
            "  inflating: annotations/maksssksksss783.xml  \n",
            "  inflating: annotations/maksssksksss784.xml  \n",
            "  inflating: annotations/maksssksksss785.xml  \n",
            "  inflating: annotations/maksssksksss786.xml  \n",
            "  inflating: annotations/maksssksksss787.xml  \n",
            "  inflating: annotations/maksssksksss788.xml  \n",
            "  inflating: annotations/maksssksksss789.xml  \n",
            "  inflating: annotations/maksssksksss79.xml  \n",
            "  inflating: annotations/maksssksksss790.xml  \n",
            "  inflating: annotations/maksssksksss791.xml  \n",
            "  inflating: annotations/maksssksksss792.xml  \n",
            "  inflating: annotations/maksssksksss793.xml  \n",
            "  inflating: annotations/maksssksksss794.xml  \n",
            "  inflating: annotations/maksssksksss795.xml  \n",
            "  inflating: annotations/maksssksksss796.xml  \n",
            "  inflating: annotations/maksssksksss797.xml  \n",
            "  inflating: annotations/maksssksksss798.xml  \n",
            "  inflating: annotations/maksssksksss799.xml  \n",
            "  inflating: annotations/maksssksksss8.xml  \n",
            "  inflating: annotations/maksssksksss80.xml  \n",
            "  inflating: annotations/maksssksksss800.xml  \n",
            "  inflating: annotations/maksssksksss801.xml  \n",
            "  inflating: annotations/maksssksksss802.xml  \n",
            "  inflating: annotations/maksssksksss803.xml  \n",
            "  inflating: annotations/maksssksksss804.xml  \n",
            "  inflating: annotations/maksssksksss805.xml  \n",
            "  inflating: annotations/maksssksksss806.xml  \n",
            "  inflating: annotations/maksssksksss807.xml  \n",
            "  inflating: annotations/maksssksksss808.xml  \n",
            "  inflating: annotations/maksssksksss809.xml  \n",
            "  inflating: annotations/maksssksksss81.xml  \n",
            "  inflating: annotations/maksssksksss810.xml  \n",
            "  inflating: annotations/maksssksksss811.xml  \n",
            "  inflating: annotations/maksssksksss812.xml  \n",
            "  inflating: annotations/maksssksksss813.xml  \n",
            "  inflating: annotations/maksssksksss814.xml  \n",
            "  inflating: annotations/maksssksksss815.xml  \n",
            "  inflating: annotations/maksssksksss816.xml  \n",
            "  inflating: annotations/maksssksksss817.xml  \n",
            "  inflating: annotations/maksssksksss818.xml  \n",
            "  inflating: annotations/maksssksksss819.xml  \n",
            "  inflating: annotations/maksssksksss82.xml  \n",
            "  inflating: annotations/maksssksksss820.xml  \n",
            "  inflating: annotations/maksssksksss821.xml  \n",
            "  inflating: annotations/maksssksksss822.xml  \n",
            "  inflating: annotations/maksssksksss823.xml  \n",
            "  inflating: annotations/maksssksksss824.xml  \n",
            "  inflating: annotations/maksssksksss825.xml  \n",
            "  inflating: annotations/maksssksksss826.xml  \n",
            "  inflating: annotations/maksssksksss827.xml  \n",
            "  inflating: annotations/maksssksksss828.xml  \n",
            "  inflating: annotations/maksssksksss829.xml  \n",
            "  inflating: annotations/maksssksksss83.xml  \n",
            "  inflating: annotations/maksssksksss830.xml  \n",
            "  inflating: annotations/maksssksksss831.xml  \n",
            "  inflating: annotations/maksssksksss832.xml  \n",
            "  inflating: annotations/maksssksksss833.xml  \n",
            "  inflating: annotations/maksssksksss834.xml  \n",
            "  inflating: annotations/maksssksksss835.xml  \n",
            "  inflating: annotations/maksssksksss836.xml  \n",
            "  inflating: annotations/maksssksksss837.xml  \n",
            "  inflating: annotations/maksssksksss838.xml  \n",
            "  inflating: annotations/maksssksksss839.xml  \n",
            "  inflating: annotations/maksssksksss84.xml  \n",
            "  inflating: annotations/maksssksksss840.xml  \n",
            "  inflating: annotations/maksssksksss841.xml  \n",
            "  inflating: annotations/maksssksksss842.xml  \n",
            "  inflating: annotations/maksssksksss843.xml  \n",
            "  inflating: annotations/maksssksksss844.xml  \n",
            "  inflating: annotations/maksssksksss845.xml  \n",
            "  inflating: annotations/maksssksksss846.xml  \n",
            "  inflating: annotations/maksssksksss847.xml  \n",
            "  inflating: annotations/maksssksksss848.xml  \n",
            "  inflating: annotations/maksssksksss849.xml  \n",
            "  inflating: annotations/maksssksksss85.xml  \n",
            "  inflating: annotations/maksssksksss850.xml  \n",
            "  inflating: annotations/maksssksksss851.xml  \n",
            "  inflating: annotations/maksssksksss852.xml  \n",
            "  inflating: annotations/maksssksksss86.xml  \n",
            "  inflating: annotations/maksssksksss87.xml  \n",
            "  inflating: annotations/maksssksksss88.xml  \n",
            "  inflating: annotations/maksssksksss89.xml  \n",
            "  inflating: annotations/maksssksksss9.xml  \n",
            "  inflating: annotations/maksssksksss90.xml  \n",
            "  inflating: annotations/maksssksksss91.xml  \n",
            "  inflating: annotations/maksssksksss92.xml  \n",
            "  inflating: annotations/maksssksksss93.xml  \n",
            "  inflating: annotations/maksssksksss94.xml  \n",
            "  inflating: annotations/maksssksksss95.xml  \n",
            "  inflating: annotations/maksssksksss96.xml  \n",
            "  inflating: annotations/maksssksksss97.xml  \n",
            "  inflating: annotations/maksssksksss98.xml  \n",
            "  inflating: annotations/maksssksksss99.xml  \n",
            "  inflating: images/maksssksksss0.png  \n",
            "  inflating: images/maksssksksss1.png  \n",
            "  inflating: images/maksssksksss10.png  \n",
            "  inflating: images/maksssksksss100.png  \n",
            "  inflating: images/maksssksksss101.png  \n",
            "  inflating: images/maksssksksss102.png  \n",
            "  inflating: images/maksssksksss103.png  \n",
            "  inflating: images/maksssksksss104.png  \n",
            "  inflating: images/maksssksksss105.png  \n",
            "  inflating: images/maksssksksss106.png  \n",
            "  inflating: images/maksssksksss107.png  \n",
            "  inflating: images/maksssksksss108.png  \n",
            "  inflating: images/maksssksksss109.png  \n",
            "  inflating: images/maksssksksss11.png  \n",
            "  inflating: images/maksssksksss110.png  \n",
            "  inflating: images/maksssksksss111.png  \n",
            "  inflating: images/maksssksksss112.png  \n",
            "  inflating: images/maksssksksss113.png  \n",
            "  inflating: images/maksssksksss114.png  \n",
            "  inflating: images/maksssksksss115.png  \n",
            "  inflating: images/maksssksksss116.png  \n",
            "  inflating: images/maksssksksss117.png  \n",
            "  inflating: images/maksssksksss118.png  \n",
            "  inflating: images/maksssksksss119.png  \n",
            "  inflating: images/maksssksksss12.png  \n",
            "  inflating: images/maksssksksss120.png  \n",
            "  inflating: images/maksssksksss121.png  \n",
            "  inflating: images/maksssksksss122.png  \n",
            "  inflating: images/maksssksksss123.png  \n",
            "  inflating: images/maksssksksss124.png  \n",
            "  inflating: images/maksssksksss125.png  \n",
            "  inflating: images/maksssksksss126.png  \n",
            "  inflating: images/maksssksksss127.png  \n",
            "  inflating: images/maksssksksss128.png  \n",
            "  inflating: images/maksssksksss129.png  \n",
            "  inflating: images/maksssksksss13.png  \n",
            "  inflating: images/maksssksksss130.png  \n",
            "  inflating: images/maksssksksss131.png  \n",
            "  inflating: images/maksssksksss132.png  \n",
            "  inflating: images/maksssksksss133.png  \n",
            "  inflating: images/maksssksksss134.png  \n",
            "  inflating: images/maksssksksss135.png  \n",
            "  inflating: images/maksssksksss136.png  \n",
            "  inflating: images/maksssksksss137.png  \n",
            "  inflating: images/maksssksksss138.png  \n",
            "  inflating: images/maksssksksss139.png  \n",
            "  inflating: images/maksssksksss14.png  \n",
            "  inflating: images/maksssksksss140.png  \n",
            "  inflating: images/maksssksksss141.png  \n",
            "  inflating: images/maksssksksss142.png  \n",
            "  inflating: images/maksssksksss143.png  \n",
            "  inflating: images/maksssksksss144.png  \n",
            "  inflating: images/maksssksksss145.png  \n",
            "  inflating: images/maksssksksss146.png  \n",
            "  inflating: images/maksssksksss147.png  \n",
            "  inflating: images/maksssksksss148.png  \n",
            "  inflating: images/maksssksksss149.png  \n",
            "  inflating: images/maksssksksss15.png  \n",
            "  inflating: images/maksssksksss150.png  \n",
            "  inflating: images/maksssksksss151.png  \n",
            "  inflating: images/maksssksksss152.png  \n",
            "  inflating: images/maksssksksss153.png  \n",
            "  inflating: images/maksssksksss154.png  \n",
            "  inflating: images/maksssksksss155.png  \n",
            "  inflating: images/maksssksksss156.png  \n",
            "  inflating: images/maksssksksss157.png  \n",
            "  inflating: images/maksssksksss158.png  \n",
            "  inflating: images/maksssksksss159.png  \n",
            "  inflating: images/maksssksksss16.png  \n",
            "  inflating: images/maksssksksss160.png  \n",
            "  inflating: images/maksssksksss161.png  \n",
            "  inflating: images/maksssksksss162.png  \n",
            "  inflating: images/maksssksksss163.png  \n",
            "  inflating: images/maksssksksss164.png  \n",
            "  inflating: images/maksssksksss165.png  \n",
            "  inflating: images/maksssksksss166.png  \n",
            "  inflating: images/maksssksksss167.png  \n",
            "  inflating: images/maksssksksss168.png  \n",
            "  inflating: images/maksssksksss169.png  \n",
            "  inflating: images/maksssksksss17.png  \n",
            "  inflating: images/maksssksksss170.png  \n",
            "  inflating: images/maksssksksss171.png  \n",
            "  inflating: images/maksssksksss172.png  \n",
            "  inflating: images/maksssksksss173.png  \n",
            "  inflating: images/maksssksksss174.png  \n",
            "  inflating: images/maksssksksss175.png  \n",
            "  inflating: images/maksssksksss176.png  \n",
            "  inflating: images/maksssksksss177.png  \n",
            "  inflating: images/maksssksksss178.png  \n",
            "  inflating: images/maksssksksss179.png  \n",
            "  inflating: images/maksssksksss18.png  \n",
            "  inflating: images/maksssksksss180.png  \n",
            "  inflating: images/maksssksksss181.png  \n",
            "  inflating: images/maksssksksss182.png  \n",
            "  inflating: images/maksssksksss183.png  \n",
            "  inflating: images/maksssksksss184.png  \n",
            "  inflating: images/maksssksksss185.png  \n",
            "  inflating: images/maksssksksss186.png  \n",
            "  inflating: images/maksssksksss187.png  \n",
            "  inflating: images/maksssksksss188.png  \n",
            "  inflating: images/maksssksksss189.png  \n",
            "  inflating: images/maksssksksss19.png  \n",
            "  inflating: images/maksssksksss190.png  \n",
            "  inflating: images/maksssksksss191.png  \n",
            "  inflating: images/maksssksksss192.png  \n",
            "  inflating: images/maksssksksss193.png  \n",
            "  inflating: images/maksssksksss194.png  \n",
            "  inflating: images/maksssksksss195.png  \n",
            "  inflating: images/maksssksksss196.png  \n",
            "  inflating: images/maksssksksss197.png  \n",
            "  inflating: images/maksssksksss198.png  \n",
            "  inflating: images/maksssksksss199.png  \n",
            "  inflating: images/maksssksksss2.png  \n",
            "  inflating: images/maksssksksss20.png  \n",
            "  inflating: images/maksssksksss200.png  \n",
            "  inflating: images/maksssksksss201.png  \n",
            "  inflating: images/maksssksksss202.png  \n",
            "  inflating: images/maksssksksss203.png  \n",
            "  inflating: images/maksssksksss204.png  \n",
            "  inflating: images/maksssksksss205.png  \n",
            "  inflating: images/maksssksksss206.png  \n",
            "  inflating: images/maksssksksss207.png  \n",
            "  inflating: images/maksssksksss208.png  \n",
            "  inflating: images/maksssksksss209.png  \n",
            "  inflating: images/maksssksksss21.png  \n",
            "  inflating: images/maksssksksss210.png  \n",
            "  inflating: images/maksssksksss211.png  \n",
            "  inflating: images/maksssksksss212.png  \n",
            "  inflating: images/maksssksksss213.png  \n",
            "  inflating: images/maksssksksss214.png  \n",
            "  inflating: images/maksssksksss215.png  \n",
            "  inflating: images/maksssksksss216.png  \n",
            "  inflating: images/maksssksksss217.png  \n",
            "  inflating: images/maksssksksss218.png  \n",
            "  inflating: images/maksssksksss219.png  \n",
            "  inflating: images/maksssksksss22.png  \n",
            "  inflating: images/maksssksksss220.png  \n",
            "  inflating: images/maksssksksss221.png  \n",
            "  inflating: images/maksssksksss222.png  \n",
            "  inflating: images/maksssksksss223.png  \n",
            "  inflating: images/maksssksksss224.png  \n",
            "  inflating: images/maksssksksss225.png  \n",
            "  inflating: images/maksssksksss226.png  \n",
            "  inflating: images/maksssksksss227.png  \n",
            "  inflating: images/maksssksksss228.png  \n",
            "  inflating: images/maksssksksss229.png  \n",
            "  inflating: images/maksssksksss23.png  \n",
            "  inflating: images/maksssksksss230.png  \n",
            "  inflating: images/maksssksksss231.png  \n",
            "  inflating: images/maksssksksss232.png  \n",
            "  inflating: images/maksssksksss233.png  \n",
            "  inflating: images/maksssksksss234.png  \n",
            "  inflating: images/maksssksksss235.png  \n",
            "  inflating: images/maksssksksss236.png  \n",
            "  inflating: images/maksssksksss237.png  \n",
            "  inflating: images/maksssksksss238.png  \n",
            "  inflating: images/maksssksksss239.png  \n",
            "  inflating: images/maksssksksss24.png  \n",
            "  inflating: images/maksssksksss240.png  \n",
            "  inflating: images/maksssksksss241.png  \n",
            "  inflating: images/maksssksksss242.png  \n",
            "  inflating: images/maksssksksss243.png  \n",
            "  inflating: images/maksssksksss244.png  \n",
            "  inflating: images/maksssksksss245.png  \n",
            "  inflating: images/maksssksksss246.png  \n",
            "  inflating: images/maksssksksss247.png  \n",
            "  inflating: images/maksssksksss248.png  \n",
            "  inflating: images/maksssksksss249.png  \n",
            "  inflating: images/maksssksksss25.png  \n",
            "  inflating: images/maksssksksss250.png  \n",
            "  inflating: images/maksssksksss251.png  \n",
            "  inflating: images/maksssksksss252.png  \n",
            "  inflating: images/maksssksksss253.png  \n",
            "  inflating: images/maksssksksss254.png  \n",
            "  inflating: images/maksssksksss255.png  \n",
            "  inflating: images/maksssksksss256.png  \n",
            "  inflating: images/maksssksksss257.png  \n",
            "  inflating: images/maksssksksss258.png  \n",
            "  inflating: images/maksssksksss259.png  \n",
            "  inflating: images/maksssksksss26.png  \n",
            "  inflating: images/maksssksksss260.png  \n",
            "  inflating: images/maksssksksss261.png  \n",
            "  inflating: images/maksssksksss262.png  \n",
            "  inflating: images/maksssksksss263.png  \n",
            "  inflating: images/maksssksksss264.png  \n",
            "  inflating: images/maksssksksss265.png  \n",
            "  inflating: images/maksssksksss266.png  \n",
            "  inflating: images/maksssksksss267.png  \n",
            "  inflating: images/maksssksksss268.png  \n",
            "  inflating: images/maksssksksss269.png  \n",
            "  inflating: images/maksssksksss27.png  \n",
            "  inflating: images/maksssksksss270.png  \n",
            "  inflating: images/maksssksksss271.png  \n",
            "  inflating: images/maksssksksss272.png  \n",
            "  inflating: images/maksssksksss273.png  \n",
            "  inflating: images/maksssksksss274.png  \n",
            "  inflating: images/maksssksksss275.png  \n",
            "  inflating: images/maksssksksss276.png  \n",
            "  inflating: images/maksssksksss277.png  \n",
            "  inflating: images/maksssksksss278.png  \n",
            "  inflating: images/maksssksksss279.png  \n",
            "  inflating: images/maksssksksss28.png  \n",
            "  inflating: images/maksssksksss280.png  \n",
            "  inflating: images/maksssksksss281.png  \n",
            "  inflating: images/maksssksksss282.png  \n",
            "  inflating: images/maksssksksss283.png  \n",
            "  inflating: images/maksssksksss284.png  \n",
            "  inflating: images/maksssksksss285.png  \n",
            "  inflating: images/maksssksksss286.png  \n",
            "  inflating: images/maksssksksss287.png  \n",
            "  inflating: images/maksssksksss288.png  \n",
            "  inflating: images/maksssksksss289.png  \n",
            "  inflating: images/maksssksksss29.png  \n",
            "  inflating: images/maksssksksss290.png  \n",
            "  inflating: images/maksssksksss291.png  \n",
            "  inflating: images/maksssksksss292.png  \n",
            "  inflating: images/maksssksksss293.png  \n",
            "  inflating: images/maksssksksss294.png  \n",
            "  inflating: images/maksssksksss295.png  \n",
            "  inflating: images/maksssksksss296.png  \n",
            "  inflating: images/maksssksksss297.png  \n",
            "  inflating: images/maksssksksss298.png  \n",
            "  inflating: images/maksssksksss299.png  \n",
            "  inflating: images/maksssksksss3.png  \n",
            "  inflating: images/maksssksksss30.png  \n",
            "  inflating: images/maksssksksss300.png  \n",
            "  inflating: images/maksssksksss301.png  \n",
            "  inflating: images/maksssksksss302.png  \n",
            "  inflating: images/maksssksksss303.png  \n",
            "  inflating: images/maksssksksss304.png  \n",
            "  inflating: images/maksssksksss305.png  \n",
            "  inflating: images/maksssksksss306.png  \n",
            "  inflating: images/maksssksksss307.png  \n",
            "  inflating: images/maksssksksss308.png  \n",
            "  inflating: images/maksssksksss309.png  \n",
            "  inflating: images/maksssksksss31.png  \n",
            "  inflating: images/maksssksksss310.png  \n",
            "  inflating: images/maksssksksss311.png  \n",
            "  inflating: images/maksssksksss312.png  \n",
            "  inflating: images/maksssksksss313.png  \n",
            "  inflating: images/maksssksksss314.png  \n",
            "  inflating: images/maksssksksss315.png  \n",
            "  inflating: images/maksssksksss316.png  \n",
            "  inflating: images/maksssksksss317.png  \n",
            "  inflating: images/maksssksksss318.png  \n",
            "  inflating: images/maksssksksss319.png  \n",
            "  inflating: images/maksssksksss32.png  \n",
            "  inflating: images/maksssksksss320.png  \n",
            "  inflating: images/maksssksksss321.png  \n",
            "  inflating: images/maksssksksss322.png  \n",
            "  inflating: images/maksssksksss323.png  \n",
            "  inflating: images/maksssksksss324.png  \n",
            "  inflating: images/maksssksksss325.png  \n",
            "  inflating: images/maksssksksss326.png  \n",
            "  inflating: images/maksssksksss327.png  \n",
            "  inflating: images/maksssksksss328.png  \n",
            "  inflating: images/maksssksksss329.png  \n",
            "  inflating: images/maksssksksss33.png  \n",
            "  inflating: images/maksssksksss330.png  \n",
            "  inflating: images/maksssksksss331.png  \n",
            "  inflating: images/maksssksksss332.png  \n",
            "  inflating: images/maksssksksss333.png  \n",
            "  inflating: images/maksssksksss334.png  \n",
            "  inflating: images/maksssksksss335.png  \n",
            "  inflating: images/maksssksksss336.png  \n",
            "  inflating: images/maksssksksss337.png  \n",
            "  inflating: images/maksssksksss338.png  \n",
            "  inflating: images/maksssksksss339.png  \n",
            "  inflating: images/maksssksksss34.png  \n",
            "  inflating: images/maksssksksss340.png  \n",
            "  inflating: images/maksssksksss341.png  \n",
            "  inflating: images/maksssksksss342.png  \n",
            "  inflating: images/maksssksksss343.png  \n",
            "  inflating: images/maksssksksss344.png  \n",
            "  inflating: images/maksssksksss345.png  \n",
            "  inflating: images/maksssksksss346.png  \n",
            "  inflating: images/maksssksksss347.png  \n",
            "  inflating: images/maksssksksss348.png  \n",
            "  inflating: images/maksssksksss349.png  \n",
            "  inflating: images/maksssksksss35.png  \n",
            "  inflating: images/maksssksksss350.png  \n",
            "  inflating: images/maksssksksss351.png  \n",
            "  inflating: images/maksssksksss352.png  \n",
            "  inflating: images/maksssksksss353.png  \n",
            "  inflating: images/maksssksksss354.png  \n",
            "  inflating: images/maksssksksss355.png  \n",
            "  inflating: images/maksssksksss356.png  \n",
            "  inflating: images/maksssksksss357.png  \n",
            "  inflating: images/maksssksksss358.png  \n",
            "  inflating: images/maksssksksss359.png  \n",
            "  inflating: images/maksssksksss36.png  \n",
            "  inflating: images/maksssksksss360.png  \n",
            "  inflating: images/maksssksksss361.png  \n",
            "  inflating: images/maksssksksss362.png  \n",
            "  inflating: images/maksssksksss363.png  \n",
            "  inflating: images/maksssksksss364.png  \n",
            "  inflating: images/maksssksksss365.png  \n",
            "  inflating: images/maksssksksss366.png  \n",
            "  inflating: images/maksssksksss367.png  \n",
            "  inflating: images/maksssksksss368.png  \n",
            "  inflating: images/maksssksksss369.png  \n",
            "  inflating: images/maksssksksss37.png  \n",
            "  inflating: images/maksssksksss370.png  \n",
            "  inflating: images/maksssksksss371.png  \n",
            "  inflating: images/maksssksksss372.png  \n",
            "  inflating: images/maksssksksss373.png  \n",
            "  inflating: images/maksssksksss374.png  \n",
            "  inflating: images/maksssksksss375.png  \n",
            "  inflating: images/maksssksksss376.png  \n",
            "  inflating: images/maksssksksss377.png  \n",
            "  inflating: images/maksssksksss378.png  \n",
            "  inflating: images/maksssksksss379.png  \n",
            "  inflating: images/maksssksksss38.png  \n",
            "  inflating: images/maksssksksss380.png  \n",
            "  inflating: images/maksssksksss381.png  \n",
            "  inflating: images/maksssksksss382.png  \n",
            "  inflating: images/maksssksksss383.png  \n",
            "  inflating: images/maksssksksss384.png  \n",
            "  inflating: images/maksssksksss385.png  \n",
            "  inflating: images/maksssksksss386.png  \n",
            "  inflating: images/maksssksksss387.png  \n",
            "  inflating: images/maksssksksss388.png  \n",
            "  inflating: images/maksssksksss389.png  \n",
            "  inflating: images/maksssksksss39.png  \n",
            "  inflating: images/maksssksksss390.png  \n",
            "  inflating: images/maksssksksss391.png  \n",
            "  inflating: images/maksssksksss392.png  \n",
            "  inflating: images/maksssksksss393.png  \n",
            "  inflating: images/maksssksksss394.png  \n",
            "  inflating: images/maksssksksss395.png  \n",
            "  inflating: images/maksssksksss396.png  \n",
            "  inflating: images/maksssksksss397.png  \n",
            "  inflating: images/maksssksksss398.png  \n",
            "  inflating: images/maksssksksss399.png  \n",
            "  inflating: images/maksssksksss4.png  \n",
            "  inflating: images/maksssksksss40.png  \n",
            "  inflating: images/maksssksksss400.png  \n",
            "  inflating: images/maksssksksss401.png  \n",
            "  inflating: images/maksssksksss402.png  \n",
            "  inflating: images/maksssksksss403.png  \n",
            "  inflating: images/maksssksksss404.png  \n",
            "  inflating: images/maksssksksss405.png  \n",
            "  inflating: images/maksssksksss406.png  \n",
            "  inflating: images/maksssksksss407.png  \n",
            "  inflating: images/maksssksksss408.png  \n",
            "  inflating: images/maksssksksss409.png  \n",
            "  inflating: images/maksssksksss41.png  \n",
            "  inflating: images/maksssksksss410.png  \n",
            "  inflating: images/maksssksksss411.png  \n",
            "  inflating: images/maksssksksss412.png  \n",
            "  inflating: images/maksssksksss413.png  \n",
            "  inflating: images/maksssksksss414.png  \n",
            "  inflating: images/maksssksksss415.png  \n",
            "  inflating: images/maksssksksss416.png  \n",
            "  inflating: images/maksssksksss417.png  \n",
            "  inflating: images/maksssksksss418.png  \n",
            "  inflating: images/maksssksksss419.png  \n",
            "  inflating: images/maksssksksss42.png  \n",
            "  inflating: images/maksssksksss420.png  \n",
            "  inflating: images/maksssksksss421.png  \n",
            "  inflating: images/maksssksksss422.png  \n",
            "  inflating: images/maksssksksss423.png  \n",
            "  inflating: images/maksssksksss424.png  \n",
            "  inflating: images/maksssksksss425.png  \n",
            "  inflating: images/maksssksksss426.png  \n",
            "  inflating: images/maksssksksss427.png  \n",
            "  inflating: images/maksssksksss428.png  \n",
            "  inflating: images/maksssksksss429.png  \n",
            "  inflating: images/maksssksksss43.png  \n",
            "  inflating: images/maksssksksss430.png  \n",
            "  inflating: images/maksssksksss431.png  \n",
            "  inflating: images/maksssksksss432.png  \n",
            "  inflating: images/maksssksksss433.png  \n",
            "  inflating: images/maksssksksss434.png  \n",
            "  inflating: images/maksssksksss435.png  \n",
            "  inflating: images/maksssksksss436.png  \n",
            "  inflating: images/maksssksksss437.png  \n",
            "  inflating: images/maksssksksss438.png  \n",
            "  inflating: images/maksssksksss439.png  \n",
            "  inflating: images/maksssksksss44.png  \n",
            "  inflating: images/maksssksksss440.png  \n",
            "  inflating: images/maksssksksss441.png  \n",
            "  inflating: images/maksssksksss442.png  \n",
            "  inflating: images/maksssksksss443.png  \n",
            "  inflating: images/maksssksksss444.png  \n",
            "  inflating: images/maksssksksss445.png  \n",
            "  inflating: images/maksssksksss446.png  \n",
            "  inflating: images/maksssksksss447.png  \n",
            "  inflating: images/maksssksksss448.png  \n",
            "  inflating: images/maksssksksss449.png  \n",
            "  inflating: images/maksssksksss45.png  \n",
            "  inflating: images/maksssksksss450.png  \n",
            "  inflating: images/maksssksksss451.png  \n",
            "  inflating: images/maksssksksss452.png  \n",
            "  inflating: images/maksssksksss453.png  \n",
            "  inflating: images/maksssksksss454.png  \n",
            "  inflating: images/maksssksksss455.png  \n",
            "  inflating: images/maksssksksss456.png  \n",
            "  inflating: images/maksssksksss457.png  \n",
            "  inflating: images/maksssksksss458.png  \n",
            "  inflating: images/maksssksksss459.png  \n",
            "  inflating: images/maksssksksss46.png  \n",
            "  inflating: images/maksssksksss460.png  \n",
            "  inflating: images/maksssksksss461.png  \n",
            "  inflating: images/maksssksksss462.png  \n",
            "  inflating: images/maksssksksss463.png  \n",
            "  inflating: images/maksssksksss464.png  \n",
            "  inflating: images/maksssksksss465.png  \n",
            "  inflating: images/maksssksksss466.png  \n",
            "  inflating: images/maksssksksss467.png  \n",
            "  inflating: images/maksssksksss468.png  \n",
            "  inflating: images/maksssksksss469.png  \n",
            "  inflating: images/maksssksksss47.png  \n",
            "  inflating: images/maksssksksss470.png  \n",
            "  inflating: images/maksssksksss471.png  \n",
            "  inflating: images/maksssksksss472.png  \n",
            "  inflating: images/maksssksksss473.png  \n",
            "  inflating: images/maksssksksss474.png  \n",
            "  inflating: images/maksssksksss475.png  \n",
            "  inflating: images/maksssksksss476.png  \n",
            "  inflating: images/maksssksksss477.png  \n",
            "  inflating: images/maksssksksss478.png  \n",
            "  inflating: images/maksssksksss479.png  \n",
            "  inflating: images/maksssksksss48.png  \n",
            "  inflating: images/maksssksksss480.png  \n",
            "  inflating: images/maksssksksss481.png  \n",
            "  inflating: images/maksssksksss482.png  \n",
            "  inflating: images/maksssksksss483.png  \n",
            "  inflating: images/maksssksksss484.png  \n",
            "  inflating: images/maksssksksss485.png  \n",
            "  inflating: images/maksssksksss486.png  \n",
            "  inflating: images/maksssksksss487.png  \n",
            "  inflating: images/maksssksksss488.png  \n",
            "  inflating: images/maksssksksss489.png  \n",
            "  inflating: images/maksssksksss49.png  \n",
            "  inflating: images/maksssksksss490.png  \n",
            "  inflating: images/maksssksksss491.png  \n",
            "  inflating: images/maksssksksss492.png  \n",
            "  inflating: images/maksssksksss493.png  \n",
            "  inflating: images/maksssksksss494.png  \n",
            "  inflating: images/maksssksksss495.png  \n",
            "  inflating: images/maksssksksss496.png  \n",
            "  inflating: images/maksssksksss497.png  \n",
            "  inflating: images/maksssksksss498.png  \n",
            "  inflating: images/maksssksksss499.png  \n",
            "  inflating: images/maksssksksss5.png  \n",
            "  inflating: images/maksssksksss50.png  \n",
            "  inflating: images/maksssksksss500.png  \n",
            "  inflating: images/maksssksksss501.png  \n",
            "  inflating: images/maksssksksss502.png  \n",
            "  inflating: images/maksssksksss503.png  \n",
            "  inflating: images/maksssksksss504.png  \n",
            "  inflating: images/maksssksksss505.png  \n",
            "  inflating: images/maksssksksss506.png  \n",
            "  inflating: images/maksssksksss507.png  \n",
            "  inflating: images/maksssksksss508.png  \n",
            "  inflating: images/maksssksksss509.png  \n",
            "  inflating: images/maksssksksss51.png  \n",
            "  inflating: images/maksssksksss510.png  \n",
            "  inflating: images/maksssksksss511.png  \n",
            "  inflating: images/maksssksksss512.png  \n",
            "  inflating: images/maksssksksss513.png  \n",
            "  inflating: images/maksssksksss514.png  \n",
            "  inflating: images/maksssksksss515.png  \n",
            "  inflating: images/maksssksksss516.png  \n",
            "  inflating: images/maksssksksss517.png  \n",
            "  inflating: images/maksssksksss518.png  \n",
            "  inflating: images/maksssksksss519.png  \n",
            "  inflating: images/maksssksksss52.png  \n",
            "  inflating: images/maksssksksss520.png  \n",
            "  inflating: images/maksssksksss521.png  \n",
            "  inflating: images/maksssksksss522.png  \n",
            "  inflating: images/maksssksksss523.png  \n",
            "  inflating: images/maksssksksss524.png  \n",
            "  inflating: images/maksssksksss525.png  \n",
            "  inflating: images/maksssksksss526.png  \n",
            "  inflating: images/maksssksksss527.png  \n",
            "  inflating: images/maksssksksss528.png  \n",
            "  inflating: images/maksssksksss529.png  \n",
            "  inflating: images/maksssksksss53.png  \n",
            "  inflating: images/maksssksksss530.png  \n",
            "  inflating: images/maksssksksss531.png  \n",
            "  inflating: images/maksssksksss532.png  \n",
            "  inflating: images/maksssksksss533.png  \n",
            "  inflating: images/maksssksksss534.png  \n",
            "  inflating: images/maksssksksss535.png  \n",
            "  inflating: images/maksssksksss536.png  \n",
            "  inflating: images/maksssksksss537.png  \n",
            "  inflating: images/maksssksksss538.png  \n",
            "  inflating: images/maksssksksss539.png  \n",
            "  inflating: images/maksssksksss54.png  \n",
            "  inflating: images/maksssksksss540.png  \n",
            "  inflating: images/maksssksksss541.png  \n",
            "  inflating: images/maksssksksss542.png  \n",
            "  inflating: images/maksssksksss543.png  \n",
            "  inflating: images/maksssksksss544.png  \n",
            "  inflating: images/maksssksksss545.png  \n",
            "  inflating: images/maksssksksss546.png  \n",
            "  inflating: images/maksssksksss547.png  \n",
            "  inflating: images/maksssksksss548.png  \n",
            "  inflating: images/maksssksksss549.png  \n",
            "  inflating: images/maksssksksss55.png  \n",
            "  inflating: images/maksssksksss550.png  \n",
            "  inflating: images/maksssksksss551.png  \n",
            "  inflating: images/maksssksksss552.png  \n",
            "  inflating: images/maksssksksss553.png  \n",
            "  inflating: images/maksssksksss554.png  \n",
            "  inflating: images/maksssksksss555.png  \n",
            "  inflating: images/maksssksksss556.png  \n",
            "  inflating: images/maksssksksss557.png  \n",
            "  inflating: images/maksssksksss558.png  \n",
            "  inflating: images/maksssksksss559.png  \n",
            "  inflating: images/maksssksksss56.png  \n",
            "  inflating: images/maksssksksss560.png  \n",
            "  inflating: images/maksssksksss561.png  \n",
            "  inflating: images/maksssksksss562.png  \n",
            "  inflating: images/maksssksksss563.png  \n",
            "  inflating: images/maksssksksss564.png  \n",
            "  inflating: images/maksssksksss565.png  \n",
            "  inflating: images/maksssksksss566.png  \n",
            "  inflating: images/maksssksksss567.png  \n",
            "  inflating: images/maksssksksss568.png  \n",
            "  inflating: images/maksssksksss569.png  \n",
            "  inflating: images/maksssksksss57.png  \n",
            "  inflating: images/maksssksksss570.png  \n",
            "  inflating: images/maksssksksss571.png  \n",
            "  inflating: images/maksssksksss572.png  \n",
            "  inflating: images/maksssksksss573.png  \n",
            "  inflating: images/maksssksksss574.png  \n",
            "  inflating: images/maksssksksss575.png  \n",
            "  inflating: images/maksssksksss576.png  \n",
            "  inflating: images/maksssksksss577.png  \n",
            "  inflating: images/maksssksksss578.png  \n",
            "  inflating: images/maksssksksss579.png  \n",
            "  inflating: images/maksssksksss58.png  \n",
            "  inflating: images/maksssksksss580.png  \n",
            "  inflating: images/maksssksksss581.png  \n",
            "  inflating: images/maksssksksss582.png  \n",
            "  inflating: images/maksssksksss583.png  \n",
            "  inflating: images/maksssksksss584.png  \n",
            "  inflating: images/maksssksksss585.png  \n",
            "  inflating: images/maksssksksss586.png  \n",
            "  inflating: images/maksssksksss587.png  \n",
            "  inflating: images/maksssksksss588.png  \n",
            "  inflating: images/maksssksksss589.png  \n",
            "  inflating: images/maksssksksss59.png  \n",
            "  inflating: images/maksssksksss590.png  \n",
            "  inflating: images/maksssksksss591.png  \n",
            "  inflating: images/maksssksksss592.png  \n",
            "  inflating: images/maksssksksss593.png  \n",
            "  inflating: images/maksssksksss594.png  \n",
            "  inflating: images/maksssksksss595.png  \n",
            "  inflating: images/maksssksksss596.png  \n",
            "  inflating: images/maksssksksss597.png  \n",
            "  inflating: images/maksssksksss598.png  \n",
            "  inflating: images/maksssksksss599.png  \n",
            "  inflating: images/maksssksksss6.png  \n",
            "  inflating: images/maksssksksss60.png  \n",
            "  inflating: images/maksssksksss600.png  \n",
            "  inflating: images/maksssksksss601.png  \n",
            "  inflating: images/maksssksksss602.png  \n",
            "  inflating: images/maksssksksss603.png  \n",
            "  inflating: images/maksssksksss604.png  \n",
            "  inflating: images/maksssksksss605.png  \n",
            "  inflating: images/maksssksksss606.png  \n",
            "  inflating: images/maksssksksss607.png  \n",
            "  inflating: images/maksssksksss608.png  \n",
            "  inflating: images/maksssksksss609.png  \n",
            "  inflating: images/maksssksksss61.png  \n",
            "  inflating: images/maksssksksss610.png  \n",
            "  inflating: images/maksssksksss611.png  \n",
            "  inflating: images/maksssksksss612.png  \n",
            "  inflating: images/maksssksksss613.png  \n",
            "  inflating: images/maksssksksss614.png  \n",
            "  inflating: images/maksssksksss615.png  \n",
            "  inflating: images/maksssksksss616.png  \n",
            "  inflating: images/maksssksksss617.png  \n",
            "  inflating: images/maksssksksss618.png  \n",
            "  inflating: images/maksssksksss619.png  \n",
            "  inflating: images/maksssksksss62.png  \n",
            "  inflating: images/maksssksksss620.png  \n",
            "  inflating: images/maksssksksss621.png  \n",
            "  inflating: images/maksssksksss622.png  \n",
            "  inflating: images/maksssksksss623.png  \n",
            "  inflating: images/maksssksksss624.png  \n",
            "  inflating: images/maksssksksss625.png  \n",
            "  inflating: images/maksssksksss626.png  \n",
            "  inflating: images/maksssksksss627.png  \n",
            "  inflating: images/maksssksksss628.png  \n",
            "  inflating: images/maksssksksss629.png  \n",
            "  inflating: images/maksssksksss63.png  \n",
            "  inflating: images/maksssksksss630.png  \n",
            "  inflating: images/maksssksksss631.png  \n",
            "  inflating: images/maksssksksss632.png  \n",
            "  inflating: images/maksssksksss633.png  \n",
            "  inflating: images/maksssksksss634.png  \n",
            "  inflating: images/maksssksksss635.png  \n",
            "  inflating: images/maksssksksss636.png  \n",
            "  inflating: images/maksssksksss637.png  \n",
            "  inflating: images/maksssksksss638.png  \n",
            "  inflating: images/maksssksksss639.png  \n",
            "  inflating: images/maksssksksss64.png  \n",
            "  inflating: images/maksssksksss640.png  \n",
            "  inflating: images/maksssksksss641.png  \n",
            "  inflating: images/maksssksksss642.png  \n",
            "  inflating: images/maksssksksss643.png  \n",
            "  inflating: images/maksssksksss644.png  \n",
            "  inflating: images/maksssksksss645.png  \n",
            "  inflating: images/maksssksksss646.png  \n",
            "  inflating: images/maksssksksss647.png  \n",
            "  inflating: images/maksssksksss648.png  \n",
            "  inflating: images/maksssksksss649.png  \n",
            "  inflating: images/maksssksksss65.png  \n",
            "  inflating: images/maksssksksss650.png  \n",
            "  inflating: images/maksssksksss651.png  \n",
            "  inflating: images/maksssksksss652.png  \n",
            "  inflating: images/maksssksksss653.png  \n",
            "  inflating: images/maksssksksss654.png  \n",
            "  inflating: images/maksssksksss655.png  \n",
            "  inflating: images/maksssksksss656.png  \n",
            "  inflating: images/maksssksksss657.png  \n",
            "  inflating: images/maksssksksss658.png  \n",
            "  inflating: images/maksssksksss659.png  \n",
            "  inflating: images/maksssksksss66.png  \n",
            "  inflating: images/maksssksksss660.png  \n",
            "  inflating: images/maksssksksss661.png  \n",
            "  inflating: images/maksssksksss662.png  \n",
            "  inflating: images/maksssksksss663.png  \n",
            "  inflating: images/maksssksksss664.png  \n",
            "  inflating: images/maksssksksss665.png  \n",
            "  inflating: images/maksssksksss666.png  \n",
            "  inflating: images/maksssksksss667.png  \n",
            "  inflating: images/maksssksksss668.png  \n",
            "  inflating: images/maksssksksss669.png  \n",
            "  inflating: images/maksssksksss67.png  \n",
            "  inflating: images/maksssksksss670.png  \n",
            "  inflating: images/maksssksksss671.png  \n",
            "  inflating: images/maksssksksss672.png  \n",
            "  inflating: images/maksssksksss673.png  \n",
            "  inflating: images/maksssksksss674.png  \n",
            "  inflating: images/maksssksksss675.png  \n",
            "  inflating: images/maksssksksss676.png  \n",
            "  inflating: images/maksssksksss677.png  \n",
            "  inflating: images/maksssksksss678.png  \n",
            "  inflating: images/maksssksksss679.png  \n",
            "  inflating: images/maksssksksss68.png  \n",
            "  inflating: images/maksssksksss680.png  \n",
            "  inflating: images/maksssksksss681.png  \n",
            "  inflating: images/maksssksksss682.png  \n",
            "  inflating: images/maksssksksss683.png  \n",
            "  inflating: images/maksssksksss684.png  \n",
            "  inflating: images/maksssksksss685.png  \n",
            "  inflating: images/maksssksksss686.png  \n",
            "  inflating: images/maksssksksss687.png  \n",
            "  inflating: images/maksssksksss688.png  \n",
            "  inflating: images/maksssksksss689.png  \n",
            "  inflating: images/maksssksksss69.png  \n",
            "  inflating: images/maksssksksss690.png  \n",
            "  inflating: images/maksssksksss691.png  \n",
            "  inflating: images/maksssksksss692.png  \n",
            "  inflating: images/maksssksksss693.png  \n",
            "  inflating: images/maksssksksss694.png  \n",
            "  inflating: images/maksssksksss695.png  \n",
            "  inflating: images/maksssksksss696.png  \n",
            "  inflating: images/maksssksksss697.png  \n",
            "  inflating: images/maksssksksss698.png  \n",
            "  inflating: images/maksssksksss699.png  \n",
            "  inflating: images/maksssksksss7.png  \n",
            "  inflating: images/maksssksksss70.png  \n",
            "  inflating: images/maksssksksss700.png  \n",
            "  inflating: images/maksssksksss701.png  \n",
            "  inflating: images/maksssksksss702.png  \n",
            "  inflating: images/maksssksksss703.png  \n",
            "  inflating: images/maksssksksss704.png  \n",
            "  inflating: images/maksssksksss705.png  \n",
            "  inflating: images/maksssksksss706.png  \n",
            "  inflating: images/maksssksksss707.png  \n",
            "  inflating: images/maksssksksss708.png  \n",
            "  inflating: images/maksssksksss709.png  \n",
            "  inflating: images/maksssksksss71.png  \n",
            "  inflating: images/maksssksksss710.png  \n",
            "  inflating: images/maksssksksss711.png  \n",
            "  inflating: images/maksssksksss712.png  \n",
            "  inflating: images/maksssksksss713.png  \n",
            "  inflating: images/maksssksksss714.png  \n",
            "  inflating: images/maksssksksss715.png  \n",
            "  inflating: images/maksssksksss716.png  \n",
            "  inflating: images/maksssksksss717.png  \n",
            "  inflating: images/maksssksksss718.png  \n",
            "  inflating: images/maksssksksss719.png  \n",
            "  inflating: images/maksssksksss72.png  \n",
            "  inflating: images/maksssksksss720.png  \n",
            "  inflating: images/maksssksksss721.png  \n",
            "  inflating: images/maksssksksss722.png  \n",
            "  inflating: images/maksssksksss723.png  \n",
            "  inflating: images/maksssksksss724.png  \n",
            "  inflating: images/maksssksksss725.png  \n",
            "  inflating: images/maksssksksss726.png  \n",
            "  inflating: images/maksssksksss727.png  \n",
            "  inflating: images/maksssksksss728.png  \n",
            "  inflating: images/maksssksksss729.png  \n",
            "  inflating: images/maksssksksss73.png  \n",
            "  inflating: images/maksssksksss730.png  \n",
            "  inflating: images/maksssksksss731.png  \n",
            "  inflating: images/maksssksksss732.png  \n",
            "  inflating: images/maksssksksss733.png  \n",
            "  inflating: images/maksssksksss734.png  \n",
            "  inflating: images/maksssksksss735.png  \n",
            "  inflating: images/maksssksksss736.png  \n",
            "  inflating: images/maksssksksss737.png  \n",
            "  inflating: images/maksssksksss738.png  \n",
            "  inflating: images/maksssksksss739.png  \n",
            "  inflating: images/maksssksksss74.png  \n",
            "  inflating: images/maksssksksss740.png  \n",
            "  inflating: images/maksssksksss741.png  \n",
            "  inflating: images/maksssksksss742.png  \n",
            "  inflating: images/maksssksksss743.png  \n",
            "  inflating: images/maksssksksss744.png  \n",
            "  inflating: images/maksssksksss745.png  \n",
            "  inflating: images/maksssksksss746.png  \n",
            "  inflating: images/maksssksksss747.png  \n",
            "  inflating: images/maksssksksss748.png  \n",
            "  inflating: images/maksssksksss749.png  \n",
            "  inflating: images/maksssksksss75.png  \n",
            "  inflating: images/maksssksksss750.png  \n",
            "  inflating: images/maksssksksss751.png  \n",
            "  inflating: images/maksssksksss752.png  \n",
            "  inflating: images/maksssksksss753.png  \n",
            "  inflating: images/maksssksksss754.png  \n",
            "  inflating: images/maksssksksss755.png  \n",
            "  inflating: images/maksssksksss756.png  \n",
            "  inflating: images/maksssksksss757.png  \n",
            "  inflating: images/maksssksksss758.png  \n",
            "  inflating: images/maksssksksss759.png  \n",
            "  inflating: images/maksssksksss76.png  \n",
            "  inflating: images/maksssksksss760.png  \n",
            "  inflating: images/maksssksksss761.png  \n",
            "  inflating: images/maksssksksss762.png  \n",
            "  inflating: images/maksssksksss763.png  \n",
            "  inflating: images/maksssksksss764.png  \n",
            "  inflating: images/maksssksksss765.png  \n",
            "  inflating: images/maksssksksss766.png  \n",
            "  inflating: images/maksssksksss767.png  \n",
            "  inflating: images/maksssksksss768.png  \n",
            "  inflating: images/maksssksksss769.png  \n",
            "  inflating: images/maksssksksss77.png  \n",
            "  inflating: images/maksssksksss770.png  \n",
            "  inflating: images/maksssksksss771.png  \n",
            "  inflating: images/maksssksksss772.png  \n",
            "  inflating: images/maksssksksss773.png  \n",
            "  inflating: images/maksssksksss774.png  \n",
            "  inflating: images/maksssksksss775.png  \n",
            "  inflating: images/maksssksksss776.png  \n",
            "  inflating: images/maksssksksss777.png  \n",
            "  inflating: images/maksssksksss778.png  \n",
            "  inflating: images/maksssksksss779.png  \n",
            "  inflating: images/maksssksksss78.png  \n",
            "  inflating: images/maksssksksss780.png  \n",
            "  inflating: images/maksssksksss781.png  \n",
            "  inflating: images/maksssksksss782.png  \n",
            "  inflating: images/maksssksksss783.png  \n",
            "  inflating: images/maksssksksss784.png  \n",
            "  inflating: images/maksssksksss785.png  \n",
            "  inflating: images/maksssksksss786.png  \n",
            "  inflating: images/maksssksksss787.png  \n",
            "  inflating: images/maksssksksss788.png  \n",
            "  inflating: images/maksssksksss789.png  \n",
            "  inflating: images/maksssksksss79.png  \n",
            "  inflating: images/maksssksksss790.png  \n",
            "  inflating: images/maksssksksss791.png  \n",
            "  inflating: images/maksssksksss792.png  \n",
            "  inflating: images/maksssksksss793.png  \n",
            "  inflating: images/maksssksksss794.png  \n",
            "  inflating: images/maksssksksss795.png  \n",
            "  inflating: images/maksssksksss796.png  \n",
            "  inflating: images/maksssksksss797.png  \n",
            "  inflating: images/maksssksksss798.png  \n",
            "  inflating: images/maksssksksss799.png  \n",
            "  inflating: images/maksssksksss8.png  \n",
            "  inflating: images/maksssksksss80.png  \n",
            "  inflating: images/maksssksksss800.png  \n",
            "  inflating: images/maksssksksss801.png  \n",
            "  inflating: images/maksssksksss802.png  \n",
            "  inflating: images/maksssksksss803.png  \n",
            "  inflating: images/maksssksksss804.png  \n",
            "  inflating: images/maksssksksss805.png  \n",
            "  inflating: images/maksssksksss806.png  \n",
            "  inflating: images/maksssksksss807.png  \n",
            "  inflating: images/maksssksksss808.png  \n",
            "  inflating: images/maksssksksss809.png  \n",
            "  inflating: images/maksssksksss81.png  \n",
            "  inflating: images/maksssksksss810.png  \n",
            "  inflating: images/maksssksksss811.png  \n",
            "  inflating: images/maksssksksss812.png  \n",
            "  inflating: images/maksssksksss813.png  \n",
            "  inflating: images/maksssksksss814.png  \n",
            "  inflating: images/maksssksksss815.png  \n",
            "  inflating: images/maksssksksss816.png  \n",
            "  inflating: images/maksssksksss817.png  \n",
            "  inflating: images/maksssksksss818.png  \n",
            "  inflating: images/maksssksksss819.png  \n",
            "  inflating: images/maksssksksss82.png  \n",
            "  inflating: images/maksssksksss820.png  \n",
            "  inflating: images/maksssksksss821.png  \n",
            "  inflating: images/maksssksksss822.png  \n",
            "  inflating: images/maksssksksss823.png  \n",
            "  inflating: images/maksssksksss824.png  \n",
            "  inflating: images/maksssksksss825.png  \n",
            "  inflating: images/maksssksksss826.png  \n",
            "  inflating: images/maksssksksss827.png  \n",
            "  inflating: images/maksssksksss828.png  \n",
            "  inflating: images/maksssksksss829.png  \n",
            "  inflating: images/maksssksksss83.png  \n",
            "  inflating: images/maksssksksss830.png  \n",
            "  inflating: images/maksssksksss831.png  \n",
            "  inflating: images/maksssksksss832.png  \n",
            "  inflating: images/maksssksksss833.png  \n",
            "  inflating: images/maksssksksss834.png  \n",
            "  inflating: images/maksssksksss835.png  \n",
            "  inflating: images/maksssksksss836.png  \n",
            "  inflating: images/maksssksksss837.png  \n",
            "  inflating: images/maksssksksss838.png  \n",
            "  inflating: images/maksssksksss839.png  \n",
            "  inflating: images/maksssksksss84.png  \n",
            "  inflating: images/maksssksksss840.png  \n",
            "  inflating: images/maksssksksss841.png  \n",
            "  inflating: images/maksssksksss842.png  \n",
            "  inflating: images/maksssksksss843.png  \n",
            "  inflating: images/maksssksksss844.png  \n",
            "  inflating: images/maksssksksss845.png  \n",
            "  inflating: images/maksssksksss846.png  \n",
            "  inflating: images/maksssksksss847.png  \n",
            "  inflating: images/maksssksksss848.png  \n",
            "  inflating: images/maksssksksss849.png  \n",
            "  inflating: images/maksssksksss85.png  \n",
            "  inflating: images/maksssksksss850.png  \n",
            "  inflating: images/maksssksksss851.png  \n",
            "  inflating: images/maksssksksss852.png  \n",
            "  inflating: images/maksssksksss86.png  \n",
            "  inflating: images/maksssksksss87.png  \n",
            "  inflating: images/maksssksksss88.png  \n",
            "  inflating: images/maksssksksss89.png  \n",
            "  inflating: images/maksssksksss9.png  \n",
            "  inflating: images/maksssksksss90.png  \n",
            "  inflating: images/maksssksksss91.png  \n",
            "  inflating: images/maksssksksss92.png  \n",
            "  inflating: images/maksssksksss93.png  \n",
            "  inflating: images/maksssksksss94.png  \n",
            "  inflating: images/maksssksksss95.png  \n",
            "  inflating: images/maksssksksss96.png  \n",
            "  inflating: images/maksssksksss97.png  \n",
            "  inflating: images/maksssksksss98.png  \n",
            "  inflating: images/maksssksksss99.png  \n"
          ]
        }
      ],
      "source": [
        "!unzip \"/content/drive/MyDrive/archive (1).zip\""
      ]
    },
    {
      "cell_type": "code",
      "execution_count": null,
      "metadata": {
        "colab": {
          "base_uri": "https://localhost:8080/"
        },
        "id": "5b5m2MsVH2mE",
        "outputId": "5e5e17ee-0bd5-4ef9-e255-ce3a3d32af08"
      },
      "outputs": [
        {
          "name": "stdout",
          "output_type": "stream",
          "text": [
            "853\n"
          ]
        }
      ],
      "source": [
        "import os\n",
        "import shutil\n",
        "from pathlib import Path\n",
        "files = os.listdir(\"/content/drive/MyDrive/images\")\n",
        "print(len(files))"
      ]
    },
    {
      "cell_type": "code",
      "execution_count": null,
      "metadata": {
        "id": "H3kqMyYZI8NH"
      },
      "outputs": [],
      "source": [
        "for i in files[:600]:\n",
        "  shutil.move(f\"/content/drive/MyDrive/images/{i}\",f\"/content/drive/MyDrive/dataset/train/images/{i}\")\n",
        "  file_name= Path(i).stem\n",
        "  shutil.move(f\"/content/drive/MyDrive/annotations/{file_name}.xml\",f\"/content/drive/MyDrive/dataset/train/labels/{file_name}.xml\")\n"
      ]
    },
    {
      "cell_type": "code",
      "execution_count": null,
      "metadata": {
        "colab": {
          "base_uri": "https://localhost:8080/"
        },
        "id": "O19pQAsGMwVv",
        "outputId": "78ae6950-1e38-4659-b83a-fb8c8ee57fb1"
      },
      "outputs": [
        {
          "name": "stdout",
          "output_type": "stream",
          "text": [
            "253\n"
          ]
        }
      ],
      "source": [
        "files = os.listdir(\"/content/drive/MyDrive/images\")\n",
        "print(len(files))\n",
        "\n"
      ]
    },
    {
      "cell_type": "code",
      "execution_count": null,
      "metadata": {
        "id": "QBCAvFvENS5B"
      },
      "outputs": [],
      "source": [
        "files = os.listdir(\"/content/drive/MyDrive/images\")\n",
        "for i in files:\n",
        "  shutil.move(f\"/content/drive/MyDrive/images/{i}\",f\"/content/drive/MyDrive/dataset/val/images/{i}\")\n",
        "  file_name= Path(i).stem\n",
        "  shutil.move(f\"/content/drive/MyDrive/annotations/{file_name}.xml\",f\"/content/drive/MyDrive/dataset/val/labels/{file_name}.xml\")"
      ]
    },
    {
      "cell_type": "code",
      "execution_count": null,
      "metadata": {
        "colab": {
          "base_uri": "https://localhost:8080/"
        },
        "id": "x-9PtB3tRfj8",
        "outputId": "64edb2dd-798e-4b7b-dbf4-9928791172cd"
      },
      "outputs": [
        {
          "output_type": "stream",
          "name": "stdout",
          "text": [
            "Collecting ultralytics\n",
            "  Downloading ultralytics-8.2.91-py3-none-any.whl.metadata (41 kB)\n",
            "\u001b[?25l     \u001b[90m━━━━━━━━━━━━━━━━━━━━━━━━━━━━━━━━━━━━━━━━\u001b[0m \u001b[32m0.0/41.9 kB\u001b[0m \u001b[31m?\u001b[0m eta \u001b[36m-:--:--\u001b[0m\r\u001b[2K     \u001b[90m━━━━━━━━━━━━━━━━━━━━━━━━━━━━━━━━━━━━━━━━\u001b[0m \u001b[32m41.9/41.9 kB\u001b[0m \u001b[31m2.9 MB/s\u001b[0m eta \u001b[36m0:00:00\u001b[0m\n",
            "\u001b[?25hRequirement already satisfied: numpy<2.0.0,>=1.23.0 in /usr/local/lib/python3.10/dist-packages (from ultralytics) (1.26.4)\n",
            "Requirement already satisfied: matplotlib>=3.3.0 in /usr/local/lib/python3.10/dist-packages (from ultralytics) (3.7.1)\n",
            "Requirement already satisfied: opencv-python>=4.6.0 in /usr/local/lib/python3.10/dist-packages (from ultralytics) (4.10.0.84)\n",
            "Requirement already satisfied: pillow>=7.1.2 in /usr/local/lib/python3.10/dist-packages (from ultralytics) (9.4.0)\n",
            "Requirement already satisfied: pyyaml>=5.3.1 in /usr/local/lib/python3.10/dist-packages (from ultralytics) (6.0.2)\n",
            "Requirement already satisfied: requests>=2.23.0 in /usr/local/lib/python3.10/dist-packages (from ultralytics) (2.32.3)\n",
            "Requirement already satisfied: scipy>=1.4.1 in /usr/local/lib/python3.10/dist-packages (from ultralytics) (1.13.1)\n",
            "Requirement already satisfied: torch>=1.8.0 in /usr/local/lib/python3.10/dist-packages (from ultralytics) (2.4.0+cu121)\n",
            "Requirement already satisfied: torchvision>=0.9.0 in /usr/local/lib/python3.10/dist-packages (from ultralytics) (0.19.0+cu121)\n",
            "Requirement already satisfied: tqdm>=4.64.0 in /usr/local/lib/python3.10/dist-packages (from ultralytics) (4.66.5)\n",
            "Requirement already satisfied: psutil in /usr/local/lib/python3.10/dist-packages (from ultralytics) (5.9.5)\n",
            "Requirement already satisfied: py-cpuinfo in /usr/local/lib/python3.10/dist-packages (from ultralytics) (9.0.0)\n",
            "Requirement already satisfied: pandas>=1.1.4 in /usr/local/lib/python3.10/dist-packages (from ultralytics) (2.1.4)\n",
            "Requirement already satisfied: seaborn>=0.11.0 in /usr/local/lib/python3.10/dist-packages (from ultralytics) (0.13.1)\n",
            "Collecting ultralytics-thop>=2.0.0 (from ultralytics)\n",
            "  Downloading ultralytics_thop-2.0.6-py3-none-any.whl.metadata (9.1 kB)\n",
            "Requirement already satisfied: contourpy>=1.0.1 in /usr/local/lib/python3.10/dist-packages (from matplotlib>=3.3.0->ultralytics) (1.3.0)\n",
            "Requirement already satisfied: cycler>=0.10 in /usr/local/lib/python3.10/dist-packages (from matplotlib>=3.3.0->ultralytics) (0.12.1)\n",
            "Requirement already satisfied: fonttools>=4.22.0 in /usr/local/lib/python3.10/dist-packages (from matplotlib>=3.3.0->ultralytics) (4.53.1)\n",
            "Requirement already satisfied: kiwisolver>=1.0.1 in /usr/local/lib/python3.10/dist-packages (from matplotlib>=3.3.0->ultralytics) (1.4.5)\n",
            "Requirement already satisfied: packaging>=20.0 in /usr/local/lib/python3.10/dist-packages (from matplotlib>=3.3.0->ultralytics) (24.1)\n",
            "Requirement already satisfied: pyparsing>=2.3.1 in /usr/local/lib/python3.10/dist-packages (from matplotlib>=3.3.0->ultralytics) (3.1.4)\n",
            "Requirement already satisfied: python-dateutil>=2.7 in /usr/local/lib/python3.10/dist-packages (from matplotlib>=3.3.0->ultralytics) (2.8.2)\n",
            "Requirement already satisfied: pytz>=2020.1 in /usr/local/lib/python3.10/dist-packages (from pandas>=1.1.4->ultralytics) (2024.1)\n",
            "Requirement already satisfied: tzdata>=2022.1 in /usr/local/lib/python3.10/dist-packages (from pandas>=1.1.4->ultralytics) (2024.1)\n",
            "Requirement already satisfied: charset-normalizer<4,>=2 in /usr/local/lib/python3.10/dist-packages (from requests>=2.23.0->ultralytics) (3.3.2)\n",
            "Requirement already satisfied: idna<4,>=2.5 in /usr/local/lib/python3.10/dist-packages (from requests>=2.23.0->ultralytics) (3.8)\n",
            "Requirement already satisfied: urllib3<3,>=1.21.1 in /usr/local/lib/python3.10/dist-packages (from requests>=2.23.0->ultralytics) (2.0.7)\n",
            "Requirement already satisfied: certifi>=2017.4.17 in /usr/local/lib/python3.10/dist-packages (from requests>=2.23.0->ultralytics) (2024.8.30)\n",
            "Requirement already satisfied: filelock in /usr/local/lib/python3.10/dist-packages (from torch>=1.8.0->ultralytics) (3.15.4)\n",
            "Requirement already satisfied: typing-extensions>=4.8.0 in /usr/local/lib/python3.10/dist-packages (from torch>=1.8.0->ultralytics) (4.12.2)\n",
            "Requirement already satisfied: sympy in /usr/local/lib/python3.10/dist-packages (from torch>=1.8.0->ultralytics) (1.13.2)\n",
            "Requirement already satisfied: networkx in /usr/local/lib/python3.10/dist-packages (from torch>=1.8.0->ultralytics) (3.3)\n",
            "Requirement already satisfied: jinja2 in /usr/local/lib/python3.10/dist-packages (from torch>=1.8.0->ultralytics) (3.1.4)\n",
            "Requirement already satisfied: fsspec in /usr/local/lib/python3.10/dist-packages (from torch>=1.8.0->ultralytics) (2024.6.1)\n",
            "Requirement already satisfied: six>=1.5 in /usr/local/lib/python3.10/dist-packages (from python-dateutil>=2.7->matplotlib>=3.3.0->ultralytics) (1.16.0)\n",
            "Requirement already satisfied: MarkupSafe>=2.0 in /usr/local/lib/python3.10/dist-packages (from jinja2->torch>=1.8.0->ultralytics) (2.1.5)\n",
            "Requirement already satisfied: mpmath<1.4,>=1.1.0 in /usr/local/lib/python3.10/dist-packages (from sympy->torch>=1.8.0->ultralytics) (1.3.0)\n",
            "Downloading ultralytics-8.2.91-py3-none-any.whl (871 kB)\n",
            "\u001b[2K   \u001b[90m━━━━━━━━━━━━━━━━━━━━━━━━━━━━━━━━━━━━━━━━\u001b[0m \u001b[32m871.8/871.8 kB\u001b[0m \u001b[31m24.0 MB/s\u001b[0m eta \u001b[36m0:00:00\u001b[0m\n",
            "\u001b[?25hDownloading ultralytics_thop-2.0.6-py3-none-any.whl (26 kB)\n",
            "Installing collected packages: ultralytics-thop, ultralytics\n",
            "Successfully installed ultralytics-8.2.91 ultralytics-thop-2.0.6\n"
          ]
        }
      ],
      "source": [
        "!pip install ultralytics\n"
      ]
    },
    {
      "cell_type": "code",
      "execution_count": null,
      "metadata": {
        "colab": {
          "base_uri": "https://localhost:8080/"
        },
        "id": "cQliTB6oREdr",
        "outputId": "f0347a34-c7e3-422e-a369-9275c135ff2b"
      },
      "outputs": [
        {
          "output_type": "stream",
          "name": "stdout",
          "text": [
            "Downloading https://github.com/ultralytics/assets/releases/download/v8.2.0/yolov8n.pt to 'yolov8n.pt'...\n"
          ]
        },
        {
          "output_type": "stream",
          "name": "stderr",
          "text": [
            "100%|██████████| 6.25M/6.25M [00:00<00:00, 109MB/s]\n"
          ]
        },
        {
          "output_type": "stream",
          "name": "stdout",
          "text": [
            "Ultralytics YOLOv8.2.91 🚀 Python-3.10.12 torch-2.4.0+cu121 CUDA:0 (Tesla T4, 15102MiB)\n",
            "\u001b[34m\u001b[1mengine/trainer: \u001b[0mtask=detect, mode=train, model=yolov8n.pt, data=/content/drive/MyDrive/face_mask-1/data.yaml, epochs=50, time=None, patience=100, batch=16, imgsz=640, save=True, save_period=-1, cache=False, device=None, workers=8, project=/content/drive/MyDrive/face_mask-1, name=train3, exist_ok=False, pretrained=True, optimizer=auto, verbose=True, seed=0, deterministic=True, single_cls=False, rect=False, cos_lr=False, close_mosaic=10, resume=False, amp=True, fraction=1.0, profile=False, freeze=None, multi_scale=False, overlap_mask=True, mask_ratio=4, dropout=0.0, val=True, split=val, save_json=False, save_hybrid=False, conf=None, iou=0.7, max_det=300, half=False, dnn=False, plots=True, source=None, vid_stride=1, stream_buffer=False, visualize=False, augment=False, agnostic_nms=False, classes=None, retina_masks=False, embed=None, show=False, save_frames=False, save_txt=False, save_conf=False, save_crop=False, show_labels=True, show_conf=True, show_boxes=True, line_width=None, format=torchscript, keras=False, optimize=False, int8=False, dynamic=False, simplify=False, opset=None, workspace=4, nms=False, lr0=0.01, lrf=0.01, momentum=0.937, weight_decay=0.0005, warmup_epochs=3.0, warmup_momentum=0.8, warmup_bias_lr=0.1, box=7.5, cls=0.5, dfl=1.5, pose=12.0, kobj=1.0, label_smoothing=0.0, nbs=64, hsv_h=0.015, hsv_s=0.7, hsv_v=0.4, degrees=0.0, translate=0.1, scale=0.5, shear=0.0, perspective=0.0, flipud=0.0, fliplr=0.5, bgr=0.0, mosaic=1.0, mixup=0.0, copy_paste=0.0, auto_augment=randaugment, erasing=0.4, crop_fraction=1.0, cfg=None, tracker=botsort.yaml, save_dir=/content/drive/MyDrive/face_mask-1/train3\n",
            "Downloading https://ultralytics.com/assets/Arial.ttf to '/root/.config/Ultralytics/Arial.ttf'...\n"
          ]
        },
        {
          "output_type": "stream",
          "name": "stderr",
          "text": [
            "100%|██████████| 755k/755k [00:00<00:00, 25.5MB/s]\n"
          ]
        },
        {
          "output_type": "stream",
          "name": "stdout",
          "text": [
            "Overriding model.yaml nc=80 with nc=1\n",
            "\n",
            "                   from  n    params  module                                       arguments                     \n",
            "  0                  -1  1       464  ultralytics.nn.modules.conv.Conv             [3, 16, 3, 2]                 \n",
            "  1                  -1  1      4672  ultralytics.nn.modules.conv.Conv             [16, 32, 3, 2]                \n",
            "  2                  -1  1      7360  ultralytics.nn.modules.block.C2f             [32, 32, 1, True]             \n",
            "  3                  -1  1     18560  ultralytics.nn.modules.conv.Conv             [32, 64, 3, 2]                \n",
            "  4                  -1  2     49664  ultralytics.nn.modules.block.C2f             [64, 64, 2, True]             \n",
            "  5                  -1  1     73984  ultralytics.nn.modules.conv.Conv             [64, 128, 3, 2]               \n",
            "  6                  -1  2    197632  ultralytics.nn.modules.block.C2f             [128, 128, 2, True]           \n",
            "  7                  -1  1    295424  ultralytics.nn.modules.conv.Conv             [128, 256, 3, 2]              \n",
            "  8                  -1  1    460288  ultralytics.nn.modules.block.C2f             [256, 256, 1, True]           \n",
            "  9                  -1  1    164608  ultralytics.nn.modules.block.SPPF            [256, 256, 5]                 \n",
            " 10                  -1  1         0  torch.nn.modules.upsampling.Upsample         [None, 2, 'nearest']          \n",
            " 11             [-1, 6]  1         0  ultralytics.nn.modules.conv.Concat           [1]                           \n",
            " 12                  -1  1    148224  ultralytics.nn.modules.block.C2f             [384, 128, 1]                 \n",
            " 13                  -1  1         0  torch.nn.modules.upsampling.Upsample         [None, 2, 'nearest']          \n",
            " 14             [-1, 4]  1         0  ultralytics.nn.modules.conv.Concat           [1]                           \n",
            " 15                  -1  1     37248  ultralytics.nn.modules.block.C2f             [192, 64, 1]                  \n",
            " 16                  -1  1     36992  ultralytics.nn.modules.conv.Conv             [64, 64, 3, 2]                \n",
            " 17            [-1, 12]  1         0  ultralytics.nn.modules.conv.Concat           [1]                           \n",
            " 18                  -1  1    123648  ultralytics.nn.modules.block.C2f             [192, 128, 1]                 \n",
            " 19                  -1  1    147712  ultralytics.nn.modules.conv.Conv             [128, 128, 3, 2]              \n",
            " 20             [-1, 9]  1         0  ultralytics.nn.modules.conv.Concat           [1]                           \n",
            " 21                  -1  1    493056  ultralytics.nn.modules.block.C2f             [384, 256, 1]                 \n",
            " 22        [15, 18, 21]  1    751507  ultralytics.nn.modules.head.Detect           [1, [64, 128, 256]]           \n",
            "Model summary: 225 layers, 3,011,043 parameters, 3,011,027 gradients, 8.2 GFLOPs\n",
            "\n",
            "Transferred 319/355 items from pretrained weights\n",
            "\u001b[34m\u001b[1mTensorBoard: \u001b[0mStart with 'tensorboard --logdir /content/drive/MyDrive/face_mask-1/train3', view at http://localhost:6006/\n",
            "Freezing layer 'model.22.dfl.conv.weight'\n",
            "\u001b[34m\u001b[1mAMP: \u001b[0mrunning Automatic Mixed Precision (AMP) checks with YOLOv8n...\n",
            "\u001b[34m\u001b[1mAMP: \u001b[0mchecks passed ✅\n"
          ]
        },
        {
          "output_type": "stream",
          "name": "stderr",
          "text": [
            "\u001b[34m\u001b[1mtrain: \u001b[0mScanning /content/drive/MyDrive/face_mask-1/train/labels.cache... 351 images, 0 backgrounds, 0 corrupt: 100%|██████████| 351/351 [00:00<?, ?it/s]\n"
          ]
        },
        {
          "output_type": "stream",
          "name": "stdout",
          "text": [
            "\u001b[34m\u001b[1malbumentations: \u001b[0mBlur(p=0.01, blur_limit=(3, 7)), MedianBlur(p=0.01, blur_limit=(3, 7)), ToGray(p=0.01), CLAHE(p=0.01, clip_limit=(1, 4.0), tile_grid_size=(8, 8))\n"
          ]
        },
        {
          "output_type": "stream",
          "name": "stderr",
          "text": [
            "/usr/lib/python3.10/multiprocessing/popen_fork.py:66: RuntimeWarning: os.fork() was called. os.fork() is incompatible with multithreaded code, and JAX is multithreaded, so this will likely lead to a deadlock.\n",
            "  self.pid = os.fork()\n",
            "\u001b[34m\u001b[1mval: \u001b[0mScanning /content/drive/MyDrive/face_mask-1/valid/labels.cache... 20 images, 0 backgrounds, 0 corrupt: 100%|██████████| 20/20 [00:00<?, ?it/s]\n"
          ]
        },
        {
          "output_type": "stream",
          "name": "stdout",
          "text": [
            "Plotting labels to /content/drive/MyDrive/face_mask-1/train3/labels.jpg... \n",
            "\u001b[34m\u001b[1moptimizer:\u001b[0m 'optimizer=auto' found, ignoring 'lr0=0.01' and 'momentum=0.937' and determining best 'optimizer', 'lr0' and 'momentum' automatically... \n",
            "\u001b[34m\u001b[1moptimizer:\u001b[0m AdamW(lr=0.002, momentum=0.9) with parameter groups 57 weight(decay=0.0), 64 weight(decay=0.0005), 63 bias(decay=0.0)\n",
            "\u001b[34m\u001b[1mTensorBoard: \u001b[0mmodel graph visualization added ✅\n",
            "Image sizes 640 train, 640 val\n",
            "Using 2 dataloader workers\n",
            "Logging results to \u001b[1m/content/drive/MyDrive/face_mask-1/train3\u001b[0m\n",
            "Starting training for 50 epochs...\n",
            "\n",
            "      Epoch    GPU_mem   box_loss   cls_loss   dfl_loss  Instances       Size\n"
          ]
        },
        {
          "output_type": "stream",
          "name": "stderr",
          "text": [
            "       1/50      2.25G      1.288      2.651      1.512         44        640: 100%|██████████| 22/22 [00:10<00:00,  2.12it/s]\n",
            "                 Class     Images  Instances      Box(P          R      mAP50  mAP50-95): 100%|██████████| 1/1 [00:01<00:00,  1.85s/it]"
          ]
        },
        {
          "output_type": "stream",
          "name": "stdout",
          "text": [
            "                   all         20         23    0.00383          1      0.696      0.518\n"
          ]
        },
        {
          "output_type": "stream",
          "name": "stderr",
          "text": [
            "\n"
          ]
        },
        {
          "output_type": "stream",
          "name": "stdout",
          "text": [
            "\n",
            "      Epoch    GPU_mem   box_loss   cls_loss   dfl_loss  Instances       Size\n"
          ]
        },
        {
          "output_type": "stream",
          "name": "stderr",
          "text": [
            "       2/50      2.14G      1.159      1.728      1.309         34        640: 100%|██████████| 22/22 [00:09<00:00,  2.23it/s]\n",
            "                 Class     Images  Instances      Box(P          R      mAP50  mAP50-95): 100%|██████████| 1/1 [00:00<00:00,  3.60it/s]"
          ]
        },
        {
          "output_type": "stream",
          "name": "stdout",
          "text": [
            "                   all         20         23          1      0.578        0.7      0.514\n"
          ]
        },
        {
          "output_type": "stream",
          "name": "stderr",
          "text": [
            "\n"
          ]
        },
        {
          "output_type": "stream",
          "name": "stdout",
          "text": [
            "\n",
            "      Epoch    GPU_mem   box_loss   cls_loss   dfl_loss  Instances       Size\n"
          ]
        },
        {
          "output_type": "stream",
          "name": "stderr",
          "text": [
            "       3/50      2.17G      1.211      1.586       1.37         28        640: 100%|██████████| 22/22 [00:07<00:00,  2.99it/s]\n",
            "                 Class     Images  Instances      Box(P          R      mAP50  mAP50-95): 100%|██████████| 1/1 [00:00<00:00,  2.42it/s]"
          ]
        },
        {
          "output_type": "stream",
          "name": "stdout",
          "text": [
            "                   all         20         23      0.349      0.217      0.163     0.0922\n"
          ]
        },
        {
          "output_type": "stream",
          "name": "stderr",
          "text": [
            "\n"
          ]
        },
        {
          "output_type": "stream",
          "name": "stdout",
          "text": [
            "\n",
            "      Epoch    GPU_mem   box_loss   cls_loss   dfl_loss  Instances       Size\n"
          ]
        },
        {
          "output_type": "stream",
          "name": "stderr",
          "text": [
            "       4/50      2.15G      1.217      1.518      1.376         33        640: 100%|██████████| 22/22 [00:09<00:00,  2.39it/s]\n",
            "                 Class     Images  Instances      Box(P          R      mAP50  mAP50-95): 100%|██████████| 1/1 [00:00<00:00,  3.79it/s]"
          ]
        },
        {
          "output_type": "stream",
          "name": "stdout",
          "text": [
            "                   all         20         23      0.747      0.739      0.716      0.498\n"
          ]
        },
        {
          "output_type": "stream",
          "name": "stderr",
          "text": [
            "\n"
          ]
        },
        {
          "output_type": "stream",
          "name": "stdout",
          "text": [
            "\n",
            "      Epoch    GPU_mem   box_loss   cls_loss   dfl_loss  Instances       Size\n"
          ]
        },
        {
          "output_type": "stream",
          "name": "stderr",
          "text": [
            "       5/50      2.15G       1.23      1.449       1.42         42        640: 100%|██████████| 22/22 [00:08<00:00,  2.72it/s]\n",
            "                 Class     Images  Instances      Box(P          R      mAP50  mAP50-95): 100%|██████████| 1/1 [00:00<00:00,  2.37it/s]"
          ]
        },
        {
          "output_type": "stream",
          "name": "stdout",
          "text": [
            "                   all         20         23      0.666      0.695      0.759      0.495\n"
          ]
        },
        {
          "output_type": "stream",
          "name": "stderr",
          "text": [
            "\n"
          ]
        },
        {
          "output_type": "stream",
          "name": "stdout",
          "text": [
            "\n",
            "      Epoch    GPU_mem   box_loss   cls_loss   dfl_loss  Instances       Size\n"
          ]
        },
        {
          "output_type": "stream",
          "name": "stderr",
          "text": [
            "       6/50      2.15G      1.147      1.299      1.344         36        640: 100%|██████████| 22/22 [00:06<00:00,  3.16it/s]\n",
            "                 Class     Images  Instances      Box(P          R      mAP50  mAP50-95): 100%|██████████| 1/1 [00:00<00:00,  3.80it/s]"
          ]
        },
        {
          "output_type": "stream",
          "name": "stdout",
          "text": [
            "                   all         20         23       0.99      0.957      0.985      0.791\n"
          ]
        },
        {
          "output_type": "stream",
          "name": "stderr",
          "text": [
            "\n"
          ]
        },
        {
          "output_type": "stream",
          "name": "stdout",
          "text": [
            "\n",
            "      Epoch    GPU_mem   box_loss   cls_loss   dfl_loss  Instances       Size\n"
          ]
        },
        {
          "output_type": "stream",
          "name": "stderr",
          "text": [
            "       7/50      2.17G      1.127       1.21      1.315         41        640: 100%|██████████| 22/22 [00:07<00:00,  2.87it/s]\n",
            "                 Class     Images  Instances      Box(P          R      mAP50  mAP50-95): 100%|██████████| 1/1 [00:00<00:00,  1.84it/s]"
          ]
        },
        {
          "output_type": "stream",
          "name": "stdout",
          "text": [
            "                   all         20         23      0.725      0.739      0.768      0.498\n"
          ]
        },
        {
          "output_type": "stream",
          "name": "stderr",
          "text": [
            "\n"
          ]
        },
        {
          "output_type": "stream",
          "name": "stdout",
          "text": [
            "\n",
            "      Epoch    GPU_mem   box_loss   cls_loss   dfl_loss  Instances       Size\n"
          ]
        },
        {
          "output_type": "stream",
          "name": "stderr",
          "text": [
            "       8/50      2.17G      1.171      1.231      1.368         23        640: 100%|██████████| 22/22 [00:06<00:00,  3.39it/s]\n",
            "                 Class     Images  Instances      Box(P          R      mAP50  mAP50-95): 100%|██████████| 1/1 [00:00<00:00,  3.53it/s]"
          ]
        },
        {
          "output_type": "stream",
          "name": "stdout",
          "text": [
            "                   all         20         23      0.532      0.891      0.583      0.473\n"
          ]
        },
        {
          "output_type": "stream",
          "name": "stderr",
          "text": [
            "\n"
          ]
        },
        {
          "output_type": "stream",
          "name": "stdout",
          "text": [
            "\n",
            "      Epoch    GPU_mem   box_loss   cls_loss   dfl_loss  Instances       Size\n"
          ]
        },
        {
          "output_type": "stream",
          "name": "stderr",
          "text": [
            "       9/50      2.17G       1.08      1.064      1.265         35        640: 100%|██████████| 22/22 [00:08<00:00,  2.71it/s]\n",
            "                 Class     Images  Instances      Box(P          R      mAP50  mAP50-95): 100%|██████████| 1/1 [00:00<00:00,  1.65it/s]"
          ]
        },
        {
          "output_type": "stream",
          "name": "stdout",
          "text": [
            "                   all         20         23      0.955      0.924      0.975      0.814\n"
          ]
        },
        {
          "output_type": "stream",
          "name": "stderr",
          "text": [
            "\n"
          ]
        },
        {
          "output_type": "stream",
          "name": "stdout",
          "text": [
            "\n",
            "      Epoch    GPU_mem   box_loss   cls_loss   dfl_loss  Instances       Size\n"
          ]
        },
        {
          "output_type": "stream",
          "name": "stderr",
          "text": [
            "      10/50      2.17G      1.078      1.037        1.3         42        640: 100%|██████████| 22/22 [00:06<00:00,  3.46it/s]\n",
            "                 Class     Images  Instances      Box(P          R      mAP50  mAP50-95): 100%|██████████| 1/1 [00:00<00:00,  3.30it/s]"
          ]
        },
        {
          "output_type": "stream",
          "name": "stdout",
          "text": [
            "                   all         20         23      0.726      0.923      0.817      0.669\n"
          ]
        },
        {
          "output_type": "stream",
          "name": "stderr",
          "text": [
            "\n"
          ]
        },
        {
          "output_type": "stream",
          "name": "stdout",
          "text": [
            "\n",
            "      Epoch    GPU_mem   box_loss   cls_loss   dfl_loss  Instances       Size\n"
          ]
        },
        {
          "output_type": "stream",
          "name": "stderr",
          "text": [
            "      11/50      2.17G      1.133      1.009      1.308         30        640: 100%|██████████| 22/22 [00:08<00:00,  2.57it/s]\n",
            "                 Class     Images  Instances      Box(P          R      mAP50  mAP50-95): 100%|██████████| 1/1 [00:00<00:00,  4.01it/s]"
          ]
        },
        {
          "output_type": "stream",
          "name": "stdout",
          "text": [
            "                   all         20         23      0.889       0.87      0.925      0.647\n"
          ]
        },
        {
          "output_type": "stream",
          "name": "stderr",
          "text": [
            "\n"
          ]
        },
        {
          "output_type": "stream",
          "name": "stdout",
          "text": [
            "\n",
            "      Epoch    GPU_mem   box_loss   cls_loss   dfl_loss  Instances       Size\n"
          ]
        },
        {
          "output_type": "stream",
          "name": "stderr",
          "text": [
            "      12/50      2.15G      1.067     0.9507      1.261         34        640: 100%|██████████| 22/22 [00:06<00:00,  3.53it/s]\n",
            "                 Class     Images  Instances      Box(P          R      mAP50  mAP50-95): 100%|██████████| 1/1 [00:00<00:00,  4.08it/s]"
          ]
        },
        {
          "output_type": "stream",
          "name": "stdout",
          "text": [
            "                   all         20         23      0.992      0.957      0.985      0.821\n"
          ]
        },
        {
          "output_type": "stream",
          "name": "stderr",
          "text": [
            "\n"
          ]
        },
        {
          "output_type": "stream",
          "name": "stdout",
          "text": [
            "\n",
            "      Epoch    GPU_mem   box_loss   cls_loss   dfl_loss  Instances       Size\n"
          ]
        },
        {
          "output_type": "stream",
          "name": "stderr",
          "text": [
            "      13/50      2.15G      1.013     0.8789      1.232         44        640: 100%|██████████| 22/22 [00:09<00:00,  2.39it/s]\n",
            "                 Class     Images  Instances      Box(P          R      mAP50  mAP50-95): 100%|██████████| 1/1 [00:00<00:00,  3.13it/s]"
          ]
        },
        {
          "output_type": "stream",
          "name": "stdout",
          "text": [
            "                   all         20         23      0.941      0.783      0.918      0.764\n"
          ]
        },
        {
          "output_type": "stream",
          "name": "stderr",
          "text": [
            "\n"
          ]
        },
        {
          "output_type": "stream",
          "name": "stdout",
          "text": [
            "\n",
            "      Epoch    GPU_mem   box_loss   cls_loss   dfl_loss  Instances       Size\n"
          ]
        },
        {
          "output_type": "stream",
          "name": "stderr",
          "text": [
            "      14/50      2.17G     0.9992     0.8451      1.228         27        640: 100%|██████████| 22/22 [00:06<00:00,  3.45it/s]\n",
            "                 Class     Images  Instances      Box(P          R      mAP50  mAP50-95): 100%|██████████| 1/1 [00:00<00:00,  2.58it/s]"
          ]
        },
        {
          "output_type": "stream",
          "name": "stdout",
          "text": [
            "                   all         20         23      0.943          1      0.995      0.828\n"
          ]
        },
        {
          "output_type": "stream",
          "name": "stderr",
          "text": [
            "\n"
          ]
        },
        {
          "output_type": "stream",
          "name": "stdout",
          "text": [
            "\n",
            "      Epoch    GPU_mem   box_loss   cls_loss   dfl_loss  Instances       Size\n"
          ]
        },
        {
          "output_type": "stream",
          "name": "stderr",
          "text": [
            "      15/50      2.17G      1.037      0.873      1.245         27        640: 100%|██████████| 22/22 [00:10<00:00,  2.19it/s]\n",
            "                 Class     Images  Instances      Box(P          R      mAP50  mAP50-95): 100%|██████████| 1/1 [00:00<00:00,  3.21it/s]"
          ]
        },
        {
          "output_type": "stream",
          "name": "stdout",
          "text": [
            "                   all         20         23          1      0.997      0.995      0.779\n"
          ]
        },
        {
          "output_type": "stream",
          "name": "stderr",
          "text": [
            "\n"
          ]
        },
        {
          "output_type": "stream",
          "name": "stdout",
          "text": [
            "\n",
            "      Epoch    GPU_mem   box_loss   cls_loss   dfl_loss  Instances       Size\n"
          ]
        },
        {
          "output_type": "stream",
          "name": "stderr",
          "text": [
            "      16/50      2.17G     0.9515     0.8368      1.216         39        640: 100%|██████████| 22/22 [00:06<00:00,  3.56it/s]\n",
            "                 Class     Images  Instances      Box(P          R      mAP50  mAP50-95): 100%|██████████| 1/1 [00:00<00:00,  3.04it/s]"
          ]
        },
        {
          "output_type": "stream",
          "name": "stdout",
          "text": [
            "                   all         20         23      0.998          1      0.995      0.832\n"
          ]
        },
        {
          "output_type": "stream",
          "name": "stderr",
          "text": [
            "\n"
          ]
        },
        {
          "output_type": "stream",
          "name": "stdout",
          "text": [
            "\n",
            "      Epoch    GPU_mem   box_loss   cls_loss   dfl_loss  Instances       Size\n"
          ]
        },
        {
          "output_type": "stream",
          "name": "stderr",
          "text": [
            "      17/50      2.15G     0.9934     0.7959      1.221         34        640: 100%|██████████| 22/22 [00:09<00:00,  2.25it/s]\n",
            "                 Class     Images  Instances      Box(P          R      mAP50  mAP50-95): 100%|██████████| 1/1 [00:00<00:00,  2.47it/s]"
          ]
        },
        {
          "output_type": "stream",
          "name": "stdout",
          "text": [
            "                   all         20         23      0.977      0.957      0.993      0.813\n"
          ]
        },
        {
          "output_type": "stream",
          "name": "stderr",
          "text": [
            "\n"
          ]
        },
        {
          "output_type": "stream",
          "name": "stdout",
          "text": [
            "\n",
            "      Epoch    GPU_mem   box_loss   cls_loss   dfl_loss  Instances       Size\n"
          ]
        },
        {
          "output_type": "stream",
          "name": "stderr",
          "text": [
            "      18/50      2.17G      1.003     0.7565      1.221         34        640: 100%|██████████| 22/22 [00:06<00:00,  3.40it/s]\n",
            "                 Class     Images  Instances      Box(P          R      mAP50  mAP50-95): 100%|██████████| 1/1 [00:00<00:00,  2.92it/s]"
          ]
        },
        {
          "output_type": "stream",
          "name": "stdout",
          "text": [
            "                   all         20         23      0.995          1      0.995      0.793\n"
          ]
        },
        {
          "output_type": "stream",
          "name": "stderr",
          "text": [
            "\n"
          ]
        },
        {
          "output_type": "stream",
          "name": "stdout",
          "text": [
            "\n",
            "      Epoch    GPU_mem   box_loss   cls_loss   dfl_loss  Instances       Size\n"
          ]
        },
        {
          "output_type": "stream",
          "name": "stderr",
          "text": [
            "      19/50      2.15G      1.001     0.7914      1.234         32        640: 100%|██████████| 22/22 [00:08<00:00,  2.57it/s]\n",
            "                 Class     Images  Instances      Box(P          R      mAP50  mAP50-95): 100%|██████████| 1/1 [00:00<00:00,  3.70it/s]"
          ]
        },
        {
          "output_type": "stream",
          "name": "stdout",
          "text": [
            "                   all         20         23      0.997          1      0.995      0.807\n"
          ]
        },
        {
          "output_type": "stream",
          "name": "stderr",
          "text": [
            "\n"
          ]
        },
        {
          "output_type": "stream",
          "name": "stdout",
          "text": [
            "\n",
            "      Epoch    GPU_mem   box_loss   cls_loss   dfl_loss  Instances       Size\n"
          ]
        },
        {
          "output_type": "stream",
          "name": "stderr",
          "text": [
            "      20/50      2.17G     0.9903     0.8196       1.23         27        640: 100%|██████████| 22/22 [00:06<00:00,  3.39it/s]\n",
            "                 Class     Images  Instances      Box(P          R      mAP50  mAP50-95): 100%|██████████| 1/1 [00:00<00:00,  1.60it/s]"
          ]
        },
        {
          "output_type": "stream",
          "name": "stdout",
          "text": [
            "                   all         20         23      0.919      0.957      0.992      0.781\n"
          ]
        },
        {
          "output_type": "stream",
          "name": "stderr",
          "text": [
            "\n"
          ]
        },
        {
          "output_type": "stream",
          "name": "stdout",
          "text": [
            "\n",
            "      Epoch    GPU_mem   box_loss   cls_loss   dfl_loss  Instances       Size\n"
          ]
        },
        {
          "output_type": "stream",
          "name": "stderr",
          "text": [
            "      21/50      2.17G     0.9475     0.7389      1.187         18        640: 100%|██████████| 22/22 [00:08<00:00,  2.49it/s]\n",
            "                 Class     Images  Instances      Box(P          R      mAP50  mAP50-95): 100%|██████████| 1/1 [00:00<00:00,  3.47it/s]"
          ]
        },
        {
          "output_type": "stream",
          "name": "stdout",
          "text": [
            "                   all         20         23      0.987          1      0.995      0.759\n"
          ]
        },
        {
          "output_type": "stream",
          "name": "stderr",
          "text": [
            "\n"
          ]
        },
        {
          "output_type": "stream",
          "name": "stdout",
          "text": [
            "\n",
            "      Epoch    GPU_mem   box_loss   cls_loss   dfl_loss  Instances       Size\n"
          ]
        },
        {
          "output_type": "stream",
          "name": "stderr",
          "text": [
            "      22/50      2.17G     0.9507     0.7066      1.199         30        640: 100%|██████████| 22/22 [00:06<00:00,  3.48it/s]\n",
            "                 Class     Images  Instances      Box(P          R      mAP50  mAP50-95): 100%|██████████| 1/1 [00:00<00:00,  1.95it/s]"
          ]
        },
        {
          "output_type": "stream",
          "name": "stdout",
          "text": [
            "                   all         20         23      0.848          1      0.966      0.772\n"
          ]
        },
        {
          "output_type": "stream",
          "name": "stderr",
          "text": [
            "\n"
          ]
        },
        {
          "output_type": "stream",
          "name": "stdout",
          "text": [
            "\n",
            "      Epoch    GPU_mem   box_loss   cls_loss   dfl_loss  Instances       Size\n"
          ]
        },
        {
          "output_type": "stream",
          "name": "stderr",
          "text": [
            "      23/50      2.15G     0.8989     0.6925      1.147         39        640: 100%|██████████| 22/22 [00:09<00:00,  2.35it/s]\n",
            "                 Class     Images  Instances      Box(P          R      mAP50  mAP50-95): 100%|██████████| 1/1 [00:00<00:00,  3.39it/s]"
          ]
        },
        {
          "output_type": "stream",
          "name": "stdout",
          "text": [
            "                   all         20         23      0.946      0.957       0.98      0.823\n"
          ]
        },
        {
          "output_type": "stream",
          "name": "stderr",
          "text": [
            "\n"
          ]
        },
        {
          "output_type": "stream",
          "name": "stdout",
          "text": [
            "\n",
            "      Epoch    GPU_mem   box_loss   cls_loss   dfl_loss  Instances       Size\n"
          ]
        },
        {
          "output_type": "stream",
          "name": "stderr",
          "text": [
            "      24/50      2.17G      0.866     0.6568      1.147         39        640: 100%|██████████| 22/22 [00:09<00:00,  2.31it/s]\n",
            "                 Class     Images  Instances      Box(P          R      mAP50  mAP50-95): 100%|██████████| 1/1 [00:00<00:00,  2.27it/s]"
          ]
        },
        {
          "output_type": "stream",
          "name": "stdout",
          "text": [
            "                   all         20         23          1      0.954      0.993      0.792\n"
          ]
        },
        {
          "output_type": "stream",
          "name": "stderr",
          "text": [
            "\n"
          ]
        },
        {
          "output_type": "stream",
          "name": "stdout",
          "text": [
            "\n",
            "      Epoch    GPU_mem   box_loss   cls_loss   dfl_loss  Instances       Size\n"
          ]
        },
        {
          "output_type": "stream",
          "name": "stderr",
          "text": [
            "      25/50      2.17G     0.8745     0.6614      1.132         35        640: 100%|██████████| 22/22 [00:06<00:00,  3.26it/s]\n",
            "                 Class     Images  Instances      Box(P          R      mAP50  mAP50-95): 100%|██████████| 1/1 [00:00<00:00,  2.70it/s]"
          ]
        },
        {
          "output_type": "stream",
          "name": "stdout",
          "text": [
            "                   all         20         23      0.995          1      0.995      0.806\n"
          ]
        },
        {
          "output_type": "stream",
          "name": "stderr",
          "text": [
            "\n"
          ]
        },
        {
          "output_type": "stream",
          "name": "stdout",
          "text": [
            "\n",
            "      Epoch    GPU_mem   box_loss   cls_loss   dfl_loss  Instances       Size\n"
          ]
        },
        {
          "output_type": "stream",
          "name": "stderr",
          "text": [
            "      26/50      2.15G     0.8335     0.6117      1.124         32        640: 100%|██████████| 22/22 [00:08<00:00,  2.54it/s]\n",
            "                 Class     Images  Instances      Box(P          R      mAP50  mAP50-95): 100%|██████████| 1/1 [00:00<00:00,  1.64it/s]"
          ]
        },
        {
          "output_type": "stream",
          "name": "stdout",
          "text": [
            "                   all         20         23          1      0.954      0.976      0.842\n"
          ]
        },
        {
          "output_type": "stream",
          "name": "stderr",
          "text": [
            "\n"
          ]
        },
        {
          "output_type": "stream",
          "name": "stdout",
          "text": [
            "\n",
            "      Epoch    GPU_mem   box_loss   cls_loss   dfl_loss  Instances       Size\n"
          ]
        },
        {
          "output_type": "stream",
          "name": "stderr",
          "text": [
            "      27/50      2.17G     0.8528     0.6061      1.119         39        640: 100%|██████████| 22/22 [00:06<00:00,  3.41it/s]\n",
            "                 Class     Images  Instances      Box(P          R      mAP50  mAP50-95): 100%|██████████| 1/1 [00:00<00:00,  4.58it/s]"
          ]
        },
        {
          "output_type": "stream",
          "name": "stdout",
          "text": [
            "                   all         20         23      0.995      0.957      0.993       0.86\n"
          ]
        },
        {
          "output_type": "stream",
          "name": "stderr",
          "text": [
            "\n"
          ]
        },
        {
          "output_type": "stream",
          "name": "stdout",
          "text": [
            "\n",
            "      Epoch    GPU_mem   box_loss   cls_loss   dfl_loss  Instances       Size\n"
          ]
        },
        {
          "output_type": "stream",
          "name": "stderr",
          "text": [
            "      28/50      2.17G      0.845     0.6347      1.125         31        640: 100%|██████████| 22/22 [00:09<00:00,  2.44it/s]\n",
            "                 Class     Images  Instances      Box(P          R      mAP50  mAP50-95): 100%|██████████| 1/1 [00:00<00:00,  2.39it/s]"
          ]
        },
        {
          "output_type": "stream",
          "name": "stdout",
          "text": [
            "                   all         20         23          1      0.953      0.983      0.802\n"
          ]
        },
        {
          "output_type": "stream",
          "name": "stderr",
          "text": [
            "\n"
          ]
        },
        {
          "output_type": "stream",
          "name": "stdout",
          "text": [
            "\n",
            "      Epoch    GPU_mem   box_loss   cls_loss   dfl_loss  Instances       Size\n"
          ]
        },
        {
          "output_type": "stream",
          "name": "stderr",
          "text": [
            "      29/50      2.15G     0.8386     0.5992      1.107         29        640: 100%|██████████| 22/22 [00:06<00:00,  3.58it/s]\n",
            "                 Class     Images  Instances      Box(P          R      mAP50  mAP50-95): 100%|██████████| 1/1 [00:00<00:00,  3.35it/s]"
          ]
        },
        {
          "output_type": "stream",
          "name": "stdout",
          "text": [
            "                   all         20         23      0.996          1      0.995      0.842\n"
          ]
        },
        {
          "output_type": "stream",
          "name": "stderr",
          "text": [
            "\n"
          ]
        },
        {
          "output_type": "stream",
          "name": "stdout",
          "text": [
            "\n",
            "      Epoch    GPU_mem   box_loss   cls_loss   dfl_loss  Instances       Size\n"
          ]
        },
        {
          "output_type": "stream",
          "name": "stderr",
          "text": [
            "      30/50      2.15G     0.8278     0.6322       1.12         36        640: 100%|██████████| 22/22 [00:09<00:00,  2.32it/s]\n",
            "                 Class     Images  Instances      Box(P          R      mAP50  mAP50-95): 100%|██████████| 1/1 [00:00<00:00,  3.44it/s]"
          ]
        },
        {
          "output_type": "stream",
          "name": "stdout",
          "text": [
            "                   all         20         23      0.997          1      0.995      0.839\n"
          ]
        },
        {
          "output_type": "stream",
          "name": "stderr",
          "text": [
            "\n"
          ]
        },
        {
          "output_type": "stream",
          "name": "stdout",
          "text": [
            "\n",
            "      Epoch    GPU_mem   box_loss   cls_loss   dfl_loss  Instances       Size\n"
          ]
        },
        {
          "output_type": "stream",
          "name": "stderr",
          "text": [
            "      31/50      2.17G     0.7903     0.5762      1.085         33        640: 100%|██████████| 22/22 [00:06<00:00,  3.60it/s]\n",
            "                 Class     Images  Instances      Box(P          R      mAP50  mAP50-95): 100%|██████████| 1/1 [00:00<00:00,  3.31it/s]"
          ]
        },
        {
          "output_type": "stream",
          "name": "stdout",
          "text": [
            "                   all         20         23      0.998          1      0.995       0.85\n"
          ]
        },
        {
          "output_type": "stream",
          "name": "stderr",
          "text": [
            "\n"
          ]
        },
        {
          "output_type": "stream",
          "name": "stdout",
          "text": [
            "\n",
            "      Epoch    GPU_mem   box_loss   cls_loss   dfl_loss  Instances       Size\n"
          ]
        },
        {
          "output_type": "stream",
          "name": "stderr",
          "text": [
            "      32/50      2.15G     0.7955     0.5785      1.094         38        640: 100%|██████████| 22/22 [00:09<00:00,  2.22it/s]\n",
            "                 Class     Images  Instances      Box(P          R      mAP50  mAP50-95): 100%|██████████| 1/1 [00:00<00:00,  4.69it/s]"
          ]
        },
        {
          "output_type": "stream",
          "name": "stdout",
          "text": [
            "                   all         20         23      0.958          1      0.992      0.823\n"
          ]
        },
        {
          "output_type": "stream",
          "name": "stderr",
          "text": [
            "\n"
          ]
        },
        {
          "output_type": "stream",
          "name": "stdout",
          "text": [
            "\n",
            "      Epoch    GPU_mem   box_loss   cls_loss   dfl_loss  Instances       Size\n"
          ]
        },
        {
          "output_type": "stream",
          "name": "stderr",
          "text": [
            "      33/50      2.15G     0.7774     0.5769      1.091         29        640: 100%|██████████| 22/22 [00:06<00:00,  3.46it/s]\n",
            "                 Class     Images  Instances      Box(P          R      mAP50  mAP50-95): 100%|██████████| 1/1 [00:00<00:00,  3.70it/s]"
          ]
        },
        {
          "output_type": "stream",
          "name": "stdout",
          "text": [
            "                   all         20         23      0.957          1      0.993      0.833\n"
          ]
        },
        {
          "output_type": "stream",
          "name": "stderr",
          "text": [
            "\n"
          ]
        },
        {
          "output_type": "stream",
          "name": "stdout",
          "text": [
            "\n",
            "      Epoch    GPU_mem   box_loss   cls_loss   dfl_loss  Instances       Size\n"
          ]
        },
        {
          "output_type": "stream",
          "name": "stderr",
          "text": [
            "      34/50      2.15G     0.7658     0.5498      1.068         37        640: 100%|██████████| 22/22 [00:09<00:00,  2.35it/s]\n",
            "                 Class     Images  Instances      Box(P          R      mAP50  mAP50-95): 100%|██████████| 1/1 [00:00<00:00,  3.25it/s]"
          ]
        },
        {
          "output_type": "stream",
          "name": "stdout",
          "text": [
            "                   all         20         23      0.998          1      0.995      0.862\n"
          ]
        },
        {
          "output_type": "stream",
          "name": "stderr",
          "text": [
            "\n"
          ]
        },
        {
          "output_type": "stream",
          "name": "stdout",
          "text": [
            "\n",
            "      Epoch    GPU_mem   box_loss   cls_loss   dfl_loss  Instances       Size\n"
          ]
        },
        {
          "output_type": "stream",
          "name": "stderr",
          "text": [
            "      35/50      2.15G     0.7662     0.5452      1.078         30        640: 100%|██████████| 22/22 [00:06<00:00,  3.46it/s]\n",
            "                 Class     Images  Instances      Box(P          R      mAP50  mAP50-95): 100%|██████████| 1/1 [00:00<00:00,  3.01it/s]"
          ]
        },
        {
          "output_type": "stream",
          "name": "stdout",
          "text": [
            "                   all         20         23      0.998          1      0.995      0.847\n"
          ]
        },
        {
          "output_type": "stream",
          "name": "stderr",
          "text": [
            "\n"
          ]
        },
        {
          "output_type": "stream",
          "name": "stdout",
          "text": [
            "\n",
            "      Epoch    GPU_mem   box_loss   cls_loss   dfl_loss  Instances       Size\n"
          ]
        },
        {
          "output_type": "stream",
          "name": "stderr",
          "text": [
            "      36/50      2.15G     0.7662     0.5414      1.078         30        640: 100%|██████████| 22/22 [00:09<00:00,  2.38it/s]\n",
            "                 Class     Images  Instances      Box(P          R      mAP50  mAP50-95): 100%|██████████| 1/1 [00:00<00:00,  2.44it/s]"
          ]
        },
        {
          "output_type": "stream",
          "name": "stdout",
          "text": [
            "                   all         20         23      0.997          1      0.995      0.831\n"
          ]
        },
        {
          "output_type": "stream",
          "name": "stderr",
          "text": [
            "\n"
          ]
        },
        {
          "output_type": "stream",
          "name": "stdout",
          "text": [
            "\n",
            "      Epoch    GPU_mem   box_loss   cls_loss   dfl_loss  Instances       Size\n"
          ]
        },
        {
          "output_type": "stream",
          "name": "stderr",
          "text": [
            "      37/50      2.17G     0.7441     0.5302      1.059         38        640: 100%|██████████| 22/22 [00:06<00:00,  3.61it/s]\n",
            "                 Class     Images  Instances      Box(P          R      mAP50  mAP50-95): 100%|██████████| 1/1 [00:00<00:00,  2.58it/s]"
          ]
        },
        {
          "output_type": "stream",
          "name": "stdout",
          "text": [
            "                   all         20         23      0.997          1      0.995      0.834\n"
          ]
        },
        {
          "output_type": "stream",
          "name": "stderr",
          "text": [
            "\n"
          ]
        },
        {
          "output_type": "stream",
          "name": "stdout",
          "text": [
            "\n",
            "      Epoch    GPU_mem   box_loss   cls_loss   dfl_loss  Instances       Size\n"
          ]
        },
        {
          "output_type": "stream",
          "name": "stderr",
          "text": [
            "      38/50      2.15G     0.7423     0.5129       1.07         35        640: 100%|██████████| 22/22 [00:09<00:00,  2.40it/s]\n",
            "                 Class     Images  Instances      Box(P          R      mAP50  mAP50-95): 100%|██████████| 1/1 [00:00<00:00,  3.61it/s]"
          ]
        },
        {
          "output_type": "stream",
          "name": "stdout",
          "text": [
            "                   all         20         23      0.997          1      0.995      0.844\n"
          ]
        },
        {
          "output_type": "stream",
          "name": "stderr",
          "text": [
            "\n"
          ]
        },
        {
          "output_type": "stream",
          "name": "stdout",
          "text": [
            "\n",
            "      Epoch    GPU_mem   box_loss   cls_loss   dfl_loss  Instances       Size\n"
          ]
        },
        {
          "output_type": "stream",
          "name": "stderr",
          "text": [
            "      39/50      2.15G     0.7397      0.503      1.051         33        640: 100%|██████████| 22/22 [00:06<00:00,  3.56it/s]\n",
            "                 Class     Images  Instances      Box(P          R      mAP50  mAP50-95): 100%|██████████| 1/1 [00:00<00:00,  2.84it/s]"
          ]
        },
        {
          "output_type": "stream",
          "name": "stdout",
          "text": [
            "                   all         20         23      0.995          1      0.995      0.837\n"
          ]
        },
        {
          "output_type": "stream",
          "name": "stderr",
          "text": [
            "\n"
          ]
        },
        {
          "output_type": "stream",
          "name": "stdout",
          "text": [
            "\n",
            "      Epoch    GPU_mem   box_loss   cls_loss   dfl_loss  Instances       Size\n"
          ]
        },
        {
          "output_type": "stream",
          "name": "stderr",
          "text": [
            "      40/50      2.15G     0.7172     0.5034       1.05         35        640: 100%|██████████| 22/22 [00:08<00:00,  2.53it/s]\n",
            "                 Class     Images  Instances      Box(P          R      mAP50  mAP50-95): 100%|██████████| 1/1 [00:00<00:00,  3.59it/s]"
          ]
        },
        {
          "output_type": "stream",
          "name": "stdout",
          "text": [
            "                   all         20         23      0.995          1      0.995      0.838\n"
          ]
        },
        {
          "output_type": "stream",
          "name": "stderr",
          "text": [
            "\n"
          ]
        },
        {
          "output_type": "stream",
          "name": "stdout",
          "text": [
            "Closing dataloader mosaic\n",
            "\u001b[34m\u001b[1malbumentations: \u001b[0mBlur(p=0.01, blur_limit=(3, 7)), MedianBlur(p=0.01, blur_limit=(3, 7)), ToGray(p=0.01), CLAHE(p=0.01, clip_limit=(1, 4.0), tile_grid_size=(8, 8))\n"
          ]
        },
        {
          "output_type": "stream",
          "name": "stderr",
          "text": [
            "/usr/lib/python3.10/multiprocessing/popen_fork.py:66: RuntimeWarning: os.fork() was called. os.fork() is incompatible with multithreaded code, and JAX is multithreaded, so this will likely lead to a deadlock.\n",
            "  self.pid = os.fork()\n"
          ]
        },
        {
          "output_type": "stream",
          "name": "stdout",
          "text": [
            "\n",
            "      Epoch    GPU_mem   box_loss   cls_loss   dfl_loss  Instances       Size\n"
          ]
        },
        {
          "output_type": "stream",
          "name": "stderr",
          "text": [
            "      41/50      2.23G     0.6237     0.4385     0.9831         15        640: 100%|██████████| 22/22 [00:08<00:00,  2.51it/s]\n",
            "                 Class     Images  Instances      Box(P          R      mAP50  mAP50-95): 100%|██████████| 1/1 [00:00<00:00,  3.88it/s]"
          ]
        },
        {
          "output_type": "stream",
          "name": "stdout",
          "text": [
            "                   all         20         23          1      0.989      0.995      0.821\n"
          ]
        },
        {
          "output_type": "stream",
          "name": "stderr",
          "text": [
            "\n"
          ]
        },
        {
          "output_type": "stream",
          "name": "stdout",
          "text": [
            "\n",
            "      Epoch    GPU_mem   box_loss   cls_loss   dfl_loss  Instances       Size\n"
          ]
        },
        {
          "output_type": "stream",
          "name": "stderr",
          "text": [
            "      42/50      2.16G     0.6004     0.4114     0.9733         17        640: 100%|██████████| 22/22 [00:07<00:00,  3.05it/s]\n",
            "                 Class     Images  Instances      Box(P          R      mAP50  mAP50-95): 100%|██████████| 1/1 [00:00<00:00,  4.60it/s]"
          ]
        },
        {
          "output_type": "stream",
          "name": "stdout",
          "text": [
            "                   all         20         23      0.918       0.87      0.951      0.815\n"
          ]
        },
        {
          "output_type": "stream",
          "name": "stderr",
          "text": [
            "\n"
          ]
        },
        {
          "output_type": "stream",
          "name": "stdout",
          "text": [
            "\n",
            "      Epoch    GPU_mem   box_loss   cls_loss   dfl_loss  Instances       Size\n"
          ]
        },
        {
          "output_type": "stream",
          "name": "stderr",
          "text": [
            "      43/50      2.15G     0.5899     0.3948     0.9674         19        640: 100%|██████████| 22/22 [00:07<00:00,  3.11it/s]\n",
            "                 Class     Images  Instances      Box(P          R      mAP50  mAP50-95): 100%|██████████| 1/1 [00:00<00:00,  2.77it/s]"
          ]
        },
        {
          "output_type": "stream",
          "name": "stdout",
          "text": [
            "                   all         20         23      0.901       0.87      0.927      0.756\n"
          ]
        },
        {
          "output_type": "stream",
          "name": "stderr",
          "text": [
            "\n"
          ]
        },
        {
          "output_type": "stream",
          "name": "stdout",
          "text": [
            "\n",
            "      Epoch    GPU_mem   box_loss   cls_loss   dfl_loss  Instances       Size\n"
          ]
        },
        {
          "output_type": "stream",
          "name": "stderr",
          "text": [
            "      44/50      2.15G     0.5674     0.3745      0.967         20        640: 100%|██████████| 22/22 [00:07<00:00,  3.05it/s]\n",
            "                 Class     Images  Instances      Box(P          R      mAP50  mAP50-95): 100%|██████████| 1/1 [00:00<00:00,  3.62it/s]"
          ]
        },
        {
          "output_type": "stream",
          "name": "stdout",
          "text": [
            "                   all         20         23      0.996          1      0.995      0.849\n"
          ]
        },
        {
          "output_type": "stream",
          "name": "stderr",
          "text": [
            "\n"
          ]
        },
        {
          "output_type": "stream",
          "name": "stdout",
          "text": [
            "\n",
            "      Epoch    GPU_mem   box_loss   cls_loss   dfl_loss  Instances       Size\n"
          ]
        },
        {
          "output_type": "stream",
          "name": "stderr",
          "text": [
            "      45/50      2.15G     0.5739     0.3694     0.9402         23        640: 100%|██████████| 22/22 [00:07<00:00,  3.11it/s]\n",
            "                 Class     Images  Instances      Box(P          R      mAP50  mAP50-95): 100%|██████████| 1/1 [00:00<00:00,  2.46it/s]"
          ]
        },
        {
          "output_type": "stream",
          "name": "stdout",
          "text": [
            "                   all         20         23      0.995          1      0.995      0.842\n"
          ]
        },
        {
          "output_type": "stream",
          "name": "stderr",
          "text": [
            "\n"
          ]
        },
        {
          "output_type": "stream",
          "name": "stdout",
          "text": [
            "\n",
            "      Epoch    GPU_mem   box_loss   cls_loss   dfl_loss  Instances       Size\n"
          ]
        },
        {
          "output_type": "stream",
          "name": "stderr",
          "text": [
            "      46/50      2.16G     0.5588     0.3569      0.946         17        640: 100%|██████████| 22/22 [00:07<00:00,  2.99it/s]\n",
            "                 Class     Images  Instances      Box(P          R      mAP50  mAP50-95): 100%|██████████| 1/1 [00:00<00:00,  3.30it/s]"
          ]
        },
        {
          "output_type": "stream",
          "name": "stdout",
          "text": [
            "                   all         20         23      0.996          1      0.995      0.836\n"
          ]
        },
        {
          "output_type": "stream",
          "name": "stderr",
          "text": [
            "\n"
          ]
        },
        {
          "output_type": "stream",
          "name": "stdout",
          "text": [
            "\n",
            "      Epoch    GPU_mem   box_loss   cls_loss   dfl_loss  Instances       Size\n"
          ]
        },
        {
          "output_type": "stream",
          "name": "stderr",
          "text": [
            "      47/50      2.15G     0.5286     0.3548     0.9389         20        640: 100%|██████████| 22/22 [00:06<00:00,  3.26it/s]\n",
            "                 Class     Images  Instances      Box(P          R      mAP50  mAP50-95): 100%|██████████| 1/1 [00:00<00:00,  2.74it/s]"
          ]
        },
        {
          "output_type": "stream",
          "name": "stdout",
          "text": [
            "                   all         20         23          1      0.935      0.992      0.847\n"
          ]
        },
        {
          "output_type": "stream",
          "name": "stderr",
          "text": [
            "\n"
          ]
        },
        {
          "output_type": "stream",
          "name": "stdout",
          "text": [
            "\n",
            "      Epoch    GPU_mem   box_loss   cls_loss   dfl_loss  Instances       Size\n"
          ]
        },
        {
          "output_type": "stream",
          "name": "stderr",
          "text": [
            "      48/50      2.15G     0.5364     0.3577     0.9535         22        640: 100%|██████████| 22/22 [00:07<00:00,  2.82it/s]\n",
            "                 Class     Images  Instances      Box(P          R      mAP50  mAP50-95): 100%|██████████| 1/1 [00:00<00:00,  2.88it/s]"
          ]
        },
        {
          "output_type": "stream",
          "name": "stdout",
          "text": [
            "                   all         20         23      0.996          1      0.995      0.853\n"
          ]
        },
        {
          "output_type": "stream",
          "name": "stderr",
          "text": [
            "\n"
          ]
        },
        {
          "output_type": "stream",
          "name": "stdout",
          "text": [
            "\n",
            "      Epoch    GPU_mem   box_loss   cls_loss   dfl_loss  Instances       Size\n"
          ]
        },
        {
          "output_type": "stream",
          "name": "stderr",
          "text": [
            "      49/50      2.16G     0.5171     0.3509     0.9302         17        640: 100%|██████████| 22/22 [00:06<00:00,  3.47it/s]\n",
            "                 Class     Images  Instances      Box(P          R      mAP50  mAP50-95): 100%|██████████| 1/1 [00:00<00:00,  2.46it/s]"
          ]
        },
        {
          "output_type": "stream",
          "name": "stdout",
          "text": [
            "                   all         20         23      0.997          1      0.995      0.846\n"
          ]
        },
        {
          "output_type": "stream",
          "name": "stderr",
          "text": [
            "\n"
          ]
        },
        {
          "output_type": "stream",
          "name": "stdout",
          "text": [
            "\n",
            "      Epoch    GPU_mem   box_loss   cls_loss   dfl_loss  Instances       Size\n"
          ]
        },
        {
          "output_type": "stream",
          "name": "stderr",
          "text": [
            "      50/50      2.15G     0.5314     0.3484     0.9483         15        640: 100%|██████████| 22/22 [00:07<00:00,  2.86it/s]\n",
            "                 Class     Images  Instances      Box(P          R      mAP50  mAP50-95): 100%|██████████| 1/1 [00:00<00:00,  3.89it/s]"
          ]
        },
        {
          "output_type": "stream",
          "name": "stdout",
          "text": [
            "                   all         20         23      0.997          1      0.995      0.842\n"
          ]
        },
        {
          "output_type": "stream",
          "name": "stderr",
          "text": [
            "\n"
          ]
        },
        {
          "output_type": "stream",
          "name": "stdout",
          "text": [
            "\n",
            "50 epochs completed in 0.134 hours.\n",
            "Optimizer stripped from /content/drive/MyDrive/face_mask-1/train3/weights/last.pt, 6.2MB\n",
            "Optimizer stripped from /content/drive/MyDrive/face_mask-1/train3/weights/best.pt, 6.2MB\n",
            "\n",
            "Validating /content/drive/MyDrive/face_mask-1/train3/weights/best.pt...\n",
            "Ultralytics YOLOv8.2.91 🚀 Python-3.10.12 torch-2.4.0+cu121 CUDA:0 (Tesla T4, 15102MiB)\n",
            "Model summary (fused): 168 layers, 3,005,843 parameters, 0 gradients, 8.1 GFLOPs\n"
          ]
        },
        {
          "output_type": "stream",
          "name": "stderr",
          "text": [
            "                 Class     Images  Instances      Box(P          R      mAP50  mAP50-95): 100%|██████████| 1/1 [00:00<00:00,  5.21it/s]\n"
          ]
        },
        {
          "output_type": "stream",
          "name": "stdout",
          "text": [
            "                   all         20         23      0.998          1      0.995      0.862\n",
            "Speed: 0.3ms preprocess, 2.8ms inference, 0.0ms loss, 1.0ms postprocess per image\n",
            "Results saved to \u001b[1m/content/drive/MyDrive/face_mask-1/train3\u001b[0m\n"
          ]
        }
      ],
      "source": [
        "from ultralytics import YOLO\n",
        "model = YOLO(\"yolov8n.pt\")  # load a pretrained model (recommended for training)\n",
        "\n",
        "# Train the model with 2 GPUs\n",
        "results = model.train(data=\"/content/drive/MyDrive/face_mask-1/data.yaml\", epochs=50, imgsz=640,project='/content/drive/MyDrive/face_mask-1' )"
      ]
    },
    {
      "cell_type": "code",
      "execution_count": null,
      "metadata": {
        "id": "gQYZ-dzfjkOc",
        "colab": {
          "base_uri": "https://localhost:8080/"
        },
        "outputId": "b8126532-dbbf-40bc-b02d-db3aafdf8835"
      },
      "outputs": [
        {
          "output_type": "stream",
          "name": "stdout",
          "text": [
            "\n",
            "image 1/1 /content/drive/MyDrive/dataset/train/images/maksssksksss116.png: 384x640 4 face_masks, 89.3ms\n",
            "Speed: 4.7ms preprocess, 89.3ms inference, 1.8ms postprocess per image at shape (1, 3, 384, 640)\n",
            "Results saved to \u001b[1m/content/drive/MyDrive/face_mask-1/predict6\u001b[0m\n"
          ]
        },
        {
          "output_type": "execute_result",
          "data": {
            "text/plain": [
              "[ultralytics.engine.results.Results object with attributes:\n",
              " \n",
              " boxes: ultralytics.engine.results.Boxes object\n",
              " keypoints: None\n",
              " masks: None\n",
              " names: {0: 'face_mask'}\n",
              " obb: None\n",
              " orig_img: array([[[ 70,  79, 185],\n",
              "         [ 58,  66, 175],\n",
              "         [ 59,  67, 183],\n",
              "         ...,\n",
              "         [ 40,  38,  45],\n",
              "         [ 38,  36,  43],\n",
              "         [ 63,  61,  68]],\n",
              " \n",
              "        [[ 52,  61, 178],\n",
              "         [ 35,  44, 163],\n",
              "         [ 39,  47, 172],\n",
              "         ...,\n",
              "         [  2,   1,   7],\n",
              "         [  0,   0,   5],\n",
              "         [ 36,  33,  41]],\n",
              " \n",
              "        [[ 53,  62, 187],\n",
              "         [ 39,  49, 175],\n",
              "         [ 43,  52, 186],\n",
              "         ...,\n",
              "         [  7,   4,  12],\n",
              "         [  2,   2,   8],\n",
              "         [ 43,  40,  48]],\n",
              " \n",
              "        ...,\n",
              " \n",
              "        [[ 97, 104, 232],\n",
              "         [ 70,  79, 208],\n",
              "         [ 49,  58, 195],\n",
              "         ...,\n",
              "         [ 24,   4,   8],\n",
              "         [ 13,   1,   3],\n",
              "         [ 48,  39,  41]],\n",
              " \n",
              "        [[ 46,  49, 203],\n",
              "         [ 25,  34, 180],\n",
              "         [ 26,  36, 181],\n",
              "         ...,\n",
              "         [ 13,   2,   3],\n",
              "         [  6,   0,   1],\n",
              "         [ 38,  35,  37]],\n",
              " \n",
              "        [[ 56,  75, 169],\n",
              "         [ 37,  55, 155],\n",
              "         [ 37,  55, 165],\n",
              "         ...,\n",
              "         [ 46,  38,  40],\n",
              "         [ 36,  34,  35],\n",
              "         [ 60,  62,  63]]], dtype=uint8)\n",
              " orig_shape: (225, 400)\n",
              " path: '/content/drive/MyDrive/dataset/train/images/maksssksksss116.png'\n",
              " probs: None\n",
              " save_dir: '/content/drive/MyDrive/face_mask-1/predict6'\n",
              " speed: {'preprocess': 4.6901702880859375, 'inference': 89.33067321777344, 'postprocess': 1.7688274383544922}]"
            ]
          },
          "metadata": {},
          "execution_count": 12
        }
      ],
      "source": [
        "from ultralytics import YOLO\n",
        "\n",
        "# Load a pretrained YOLOv8n model\n",
        "model = YOLO(\"/content/drive/MyDrive/face_mask-1/train2/weights/last.pt\")\n",
        "\n",
        "# Run inference on 'bus.jpg' with arguments\n",
        "model.predict(\"/content/drive/MyDrive/dataset/train/images/maksssksksss116.png\", save=True, imgsz=640, conf=0.5,project='/content/drive/MyDrive/face_mask-1')"
      ]
    },
    {
      "cell_type": "code",
      "source": [],
      "metadata": {
        "id": "-0Q_5LEUwBfD"
      },
      "execution_count": null,
      "outputs": []
    }
  ],
  "metadata": {
    "accelerator": "GPU",
    "colab": {
      "gpuType": "T4",
      "provenance": [],
      "mount_file_id": "1g3IZJAX5M-BmaRCQ_YD_t6opd5HbQUd6",
      "authorship_tag": "ABX9TyOU1tX9tH1TzaF6r5bGbuAN",
      "include_colab_link": true
    },
    "kernelspec": {
      "display_name": "Python 3",
      "name": "python3"
    },
    "language_info": {
      "name": "python"
    }
  },
  "nbformat": 4,
  "nbformat_minor": 0
}